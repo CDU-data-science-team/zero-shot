{
  "nbformat": 4,
  "nbformat_minor": 0,
  "metadata": {
    "colab": {
      "name": "Patient Feedback with Hugging Transformer.ipynb",
      "provenance": [],
      "collapsed_sections": [],
      "authorship_tag": "ABX9TyPZwqi2Zl3/T4suEqnf/v3D",
      "include_colab_link": true
    },
    "kernelspec": {
      "name": "python3",
      "display_name": "Python 3"
    },
    "language_info": {
      "name": "python"
    },
    "accelerator": "GPU",
    "widgets": {
      "application/vnd.jupyter.widget-state+json": {
        "8bfe7ea0e5aa4266a260adebc1fbc348": {
          "model_module": "@jupyter-widgets/controls",
          "model_name": "HBoxModel",
          "state": {
            "_view_name": "HBoxView",
            "_dom_classes": [],
            "_model_name": "HBoxModel",
            "_view_module": "@jupyter-widgets/controls",
            "_model_module_version": "1.5.0",
            "_view_count": null,
            "_view_module_version": "1.5.0",
            "box_style": "",
            "layout": "IPY_MODEL_83128f66cfd1482f9b0f0f9729ec0240",
            "_model_module": "@jupyter-widgets/controls",
            "children": [
              "IPY_MODEL_2c2c7115bf8c4d5686e5c14d1d42ab0e",
              "IPY_MODEL_7e816595ae1540fc9be01bb57109e951"
            ]
          }
        },
        "83128f66cfd1482f9b0f0f9729ec0240": {
          "model_module": "@jupyter-widgets/base",
          "model_name": "LayoutModel",
          "state": {
            "_view_name": "LayoutView",
            "grid_template_rows": null,
            "right": null,
            "justify_content": null,
            "_view_module": "@jupyter-widgets/base",
            "overflow": null,
            "_model_module_version": "1.2.0",
            "_view_count": null,
            "flex_flow": null,
            "width": null,
            "min_width": null,
            "border": null,
            "align_items": null,
            "bottom": null,
            "_model_module": "@jupyter-widgets/base",
            "top": null,
            "grid_column": null,
            "overflow_y": null,
            "overflow_x": null,
            "grid_auto_flow": null,
            "grid_area": null,
            "grid_template_columns": null,
            "flex": null,
            "_model_name": "LayoutModel",
            "justify_items": null,
            "grid_row": null,
            "max_height": null,
            "align_content": null,
            "visibility": null,
            "align_self": null,
            "height": null,
            "min_height": null,
            "padding": null,
            "grid_auto_rows": null,
            "grid_gap": null,
            "max_width": null,
            "order": null,
            "_view_module_version": "1.2.0",
            "grid_template_areas": null,
            "object_position": null,
            "object_fit": null,
            "grid_auto_columns": null,
            "margin": null,
            "display": null,
            "left": null
          }
        },
        "2c2c7115bf8c4d5686e5c14d1d42ab0e": {
          "model_module": "@jupyter-widgets/controls",
          "model_name": "FloatProgressModel",
          "state": {
            "_view_name": "ProgressView",
            "style": "IPY_MODEL_d5fc6c1a4b784faa9de8f3122e95b738",
            "_dom_classes": [],
            "description": "Downloading: 100%",
            "_model_name": "FloatProgressModel",
            "bar_style": "success",
            "max": 1389,
            "_view_module": "@jupyter-widgets/controls",
            "_model_module_version": "1.5.0",
            "value": 1389,
            "_view_count": null,
            "_view_module_version": "1.5.0",
            "orientation": "horizontal",
            "min": 0,
            "description_tooltip": null,
            "_model_module": "@jupyter-widgets/controls",
            "layout": "IPY_MODEL_08d260739a734be0a9e681df6e1d41a0"
          }
        },
        "7e816595ae1540fc9be01bb57109e951": {
          "model_module": "@jupyter-widgets/controls",
          "model_name": "HTMLModel",
          "state": {
            "_view_name": "HTMLView",
            "style": "IPY_MODEL_c6a3496b5a4248369e7b8b41a8d1fbed",
            "_dom_classes": [],
            "description": "",
            "_model_name": "HTMLModel",
            "placeholder": "​",
            "_view_module": "@jupyter-widgets/controls",
            "_model_module_version": "1.5.0",
            "value": " 1.39k/1.39k [00:00&lt;00:00, 3.49kB/s]",
            "_view_count": null,
            "_view_module_version": "1.5.0",
            "description_tooltip": null,
            "_model_module": "@jupyter-widgets/controls",
            "layout": "IPY_MODEL_1730b8e14e4740b29ba587c38194e0be"
          }
        },
        "d5fc6c1a4b784faa9de8f3122e95b738": {
          "model_module": "@jupyter-widgets/controls",
          "model_name": "ProgressStyleModel",
          "state": {
            "_view_name": "StyleView",
            "_model_name": "ProgressStyleModel",
            "description_width": "initial",
            "_view_module": "@jupyter-widgets/base",
            "_model_module_version": "1.5.0",
            "_view_count": null,
            "_view_module_version": "1.2.0",
            "bar_color": null,
            "_model_module": "@jupyter-widgets/controls"
          }
        },
        "08d260739a734be0a9e681df6e1d41a0": {
          "model_module": "@jupyter-widgets/base",
          "model_name": "LayoutModel",
          "state": {
            "_view_name": "LayoutView",
            "grid_template_rows": null,
            "right": null,
            "justify_content": null,
            "_view_module": "@jupyter-widgets/base",
            "overflow": null,
            "_model_module_version": "1.2.0",
            "_view_count": null,
            "flex_flow": null,
            "width": null,
            "min_width": null,
            "border": null,
            "align_items": null,
            "bottom": null,
            "_model_module": "@jupyter-widgets/base",
            "top": null,
            "grid_column": null,
            "overflow_y": null,
            "overflow_x": null,
            "grid_auto_flow": null,
            "grid_area": null,
            "grid_template_columns": null,
            "flex": null,
            "_model_name": "LayoutModel",
            "justify_items": null,
            "grid_row": null,
            "max_height": null,
            "align_content": null,
            "visibility": null,
            "align_self": null,
            "height": null,
            "min_height": null,
            "padding": null,
            "grid_auto_rows": null,
            "grid_gap": null,
            "max_width": null,
            "order": null,
            "_view_module_version": "1.2.0",
            "grid_template_areas": null,
            "object_position": null,
            "object_fit": null,
            "grid_auto_columns": null,
            "margin": null,
            "display": null,
            "left": null
          }
        },
        "c6a3496b5a4248369e7b8b41a8d1fbed": {
          "model_module": "@jupyter-widgets/controls",
          "model_name": "DescriptionStyleModel",
          "state": {
            "_view_name": "StyleView",
            "_model_name": "DescriptionStyleModel",
            "description_width": "",
            "_view_module": "@jupyter-widgets/base",
            "_model_module_version": "1.5.0",
            "_view_count": null,
            "_view_module_version": "1.2.0",
            "_model_module": "@jupyter-widgets/controls"
          }
        },
        "1730b8e14e4740b29ba587c38194e0be": {
          "model_module": "@jupyter-widgets/base",
          "model_name": "LayoutModel",
          "state": {
            "_view_name": "LayoutView",
            "grid_template_rows": null,
            "right": null,
            "justify_content": null,
            "_view_module": "@jupyter-widgets/base",
            "overflow": null,
            "_model_module_version": "1.2.0",
            "_view_count": null,
            "flex_flow": null,
            "width": null,
            "min_width": null,
            "border": null,
            "align_items": null,
            "bottom": null,
            "_model_module": "@jupyter-widgets/base",
            "top": null,
            "grid_column": null,
            "overflow_y": null,
            "overflow_x": null,
            "grid_auto_flow": null,
            "grid_area": null,
            "grid_template_columns": null,
            "flex": null,
            "_model_name": "LayoutModel",
            "justify_items": null,
            "grid_row": null,
            "max_height": null,
            "align_content": null,
            "visibility": null,
            "align_self": null,
            "height": null,
            "min_height": null,
            "padding": null,
            "grid_auto_rows": null,
            "grid_gap": null,
            "max_width": null,
            "order": null,
            "_view_module_version": "1.2.0",
            "grid_template_areas": null,
            "object_position": null,
            "object_fit": null,
            "grid_auto_columns": null,
            "margin": null,
            "display": null,
            "left": null
          }
        },
        "9060528f2e89422f82e5d9be2f97aba1": {
          "model_module": "@jupyter-widgets/controls",
          "model_name": "HBoxModel",
          "state": {
            "_view_name": "HBoxView",
            "_dom_classes": [],
            "_model_name": "HBoxModel",
            "_view_module": "@jupyter-widgets/controls",
            "_model_module_version": "1.5.0",
            "_view_count": null,
            "_view_module_version": "1.5.0",
            "box_style": "",
            "layout": "IPY_MODEL_3d82d924542541c9b5b1dc1be01a9984",
            "_model_module": "@jupyter-widgets/controls",
            "children": [
              "IPY_MODEL_eb484b63985346ccad67b26c1b8fb26e",
              "IPY_MODEL_b00adf63f4c34682ac460d727f5a1d65"
            ]
          }
        },
        "3d82d924542541c9b5b1dc1be01a9984": {
          "model_module": "@jupyter-widgets/base",
          "model_name": "LayoutModel",
          "state": {
            "_view_name": "LayoutView",
            "grid_template_rows": null,
            "right": null,
            "justify_content": null,
            "_view_module": "@jupyter-widgets/base",
            "overflow": null,
            "_model_module_version": "1.2.0",
            "_view_count": null,
            "flex_flow": null,
            "width": null,
            "min_width": null,
            "border": null,
            "align_items": null,
            "bottom": null,
            "_model_module": "@jupyter-widgets/base",
            "top": null,
            "grid_column": null,
            "overflow_y": null,
            "overflow_x": null,
            "grid_auto_flow": null,
            "grid_area": null,
            "grid_template_columns": null,
            "flex": null,
            "_model_name": "LayoutModel",
            "justify_items": null,
            "grid_row": null,
            "max_height": null,
            "align_content": null,
            "visibility": null,
            "align_self": null,
            "height": null,
            "min_height": null,
            "padding": null,
            "grid_auto_rows": null,
            "grid_gap": null,
            "max_width": null,
            "order": null,
            "_view_module_version": "1.2.0",
            "grid_template_areas": null,
            "object_position": null,
            "object_fit": null,
            "grid_auto_columns": null,
            "margin": null,
            "display": null,
            "left": null
          }
        },
        "eb484b63985346ccad67b26c1b8fb26e": {
          "model_module": "@jupyter-widgets/controls",
          "model_name": "FloatProgressModel",
          "state": {
            "_view_name": "ProgressView",
            "style": "IPY_MODEL_b1d81a2441f948beb30501d157d48e2b",
            "_dom_classes": [],
            "description": "Downloading: 100%",
            "_model_name": "FloatProgressModel",
            "bar_style": "success",
            "max": 890410947,
            "_view_module": "@jupyter-widgets/controls",
            "_model_module_version": "1.5.0",
            "value": 890410947,
            "_view_count": null,
            "_view_module_version": "1.5.0",
            "orientation": "horizontal",
            "min": 0,
            "description_tooltip": null,
            "_model_module": "@jupyter-widgets/controls",
            "layout": "IPY_MODEL_2af7a18626d5472facbfc0ce0259a5cb"
          }
        },
        "b00adf63f4c34682ac460d727f5a1d65": {
          "model_module": "@jupyter-widgets/controls",
          "model_name": "HTMLModel",
          "state": {
            "_view_name": "HTMLView",
            "style": "IPY_MODEL_9ec0e97d40b646bf83dbce5630cff0f4",
            "_dom_classes": [],
            "description": "",
            "_model_name": "HTMLModel",
            "placeholder": "​",
            "_view_module": "@jupyter-widgets/controls",
            "_model_module_version": "1.5.0",
            "value": " 890M/890M [00:27&lt;00:00, 32.5MB/s]",
            "_view_count": null,
            "_view_module_version": "1.5.0",
            "description_tooltip": null,
            "_model_module": "@jupyter-widgets/controls",
            "layout": "IPY_MODEL_8a2de3b1c3204357930331884947b663"
          }
        },
        "b1d81a2441f948beb30501d157d48e2b": {
          "model_module": "@jupyter-widgets/controls",
          "model_name": "ProgressStyleModel",
          "state": {
            "_view_name": "StyleView",
            "_model_name": "ProgressStyleModel",
            "description_width": "initial",
            "_view_module": "@jupyter-widgets/base",
            "_model_module_version": "1.5.0",
            "_view_count": null,
            "_view_module_version": "1.2.0",
            "bar_color": null,
            "_model_module": "@jupyter-widgets/controls"
          }
        },
        "2af7a18626d5472facbfc0ce0259a5cb": {
          "model_module": "@jupyter-widgets/base",
          "model_name": "LayoutModel",
          "state": {
            "_view_name": "LayoutView",
            "grid_template_rows": null,
            "right": null,
            "justify_content": null,
            "_view_module": "@jupyter-widgets/base",
            "overflow": null,
            "_model_module_version": "1.2.0",
            "_view_count": null,
            "flex_flow": null,
            "width": null,
            "min_width": null,
            "border": null,
            "align_items": null,
            "bottom": null,
            "_model_module": "@jupyter-widgets/base",
            "top": null,
            "grid_column": null,
            "overflow_y": null,
            "overflow_x": null,
            "grid_auto_flow": null,
            "grid_area": null,
            "grid_template_columns": null,
            "flex": null,
            "_model_name": "LayoutModel",
            "justify_items": null,
            "grid_row": null,
            "max_height": null,
            "align_content": null,
            "visibility": null,
            "align_self": null,
            "height": null,
            "min_height": null,
            "padding": null,
            "grid_auto_rows": null,
            "grid_gap": null,
            "max_width": null,
            "order": null,
            "_view_module_version": "1.2.0",
            "grid_template_areas": null,
            "object_position": null,
            "object_fit": null,
            "grid_auto_columns": null,
            "margin": null,
            "display": null,
            "left": null
          }
        },
        "9ec0e97d40b646bf83dbce5630cff0f4": {
          "model_module": "@jupyter-widgets/controls",
          "model_name": "DescriptionStyleModel",
          "state": {
            "_view_name": "StyleView",
            "_model_name": "DescriptionStyleModel",
            "description_width": "",
            "_view_module": "@jupyter-widgets/base",
            "_model_module_version": "1.5.0",
            "_view_count": null,
            "_view_module_version": "1.2.0",
            "_model_module": "@jupyter-widgets/controls"
          }
        },
        "8a2de3b1c3204357930331884947b663": {
          "model_module": "@jupyter-widgets/base",
          "model_name": "LayoutModel",
          "state": {
            "_view_name": "LayoutView",
            "grid_template_rows": null,
            "right": null,
            "justify_content": null,
            "_view_module": "@jupyter-widgets/base",
            "overflow": null,
            "_model_module_version": "1.2.0",
            "_view_count": null,
            "flex_flow": null,
            "width": null,
            "min_width": null,
            "border": null,
            "align_items": null,
            "bottom": null,
            "_model_module": "@jupyter-widgets/base",
            "top": null,
            "grid_column": null,
            "overflow_y": null,
            "overflow_x": null,
            "grid_auto_flow": null,
            "grid_area": null,
            "grid_template_columns": null,
            "flex": null,
            "_model_name": "LayoutModel",
            "justify_items": null,
            "grid_row": null,
            "max_height": null,
            "align_content": null,
            "visibility": null,
            "align_self": null,
            "height": null,
            "min_height": null,
            "padding": null,
            "grid_auto_rows": null,
            "grid_gap": null,
            "max_width": null,
            "order": null,
            "_view_module_version": "1.2.0",
            "grid_template_areas": null,
            "object_position": null,
            "object_fit": null,
            "grid_auto_columns": null,
            "margin": null,
            "display": null,
            "left": null
          }
        },
        "0f3e0ad97eec4ebf9a143854b6ddb660": {
          "model_module": "@jupyter-widgets/controls",
          "model_name": "HBoxModel",
          "state": {
            "_view_name": "HBoxView",
            "_dom_classes": [],
            "_model_name": "HBoxModel",
            "_view_module": "@jupyter-widgets/controls",
            "_model_module_version": "1.5.0",
            "_view_count": null,
            "_view_module_version": "1.5.0",
            "box_style": "",
            "layout": "IPY_MODEL_f407516bb077415bae3455c6f0e308ab",
            "_model_module": "@jupyter-widgets/controls",
            "children": [
              "IPY_MODEL_feac16222b3446c39b0d0ae69c929910",
              "IPY_MODEL_e02cea0c14294830a0c16abb054c430c"
            ]
          }
        },
        "f407516bb077415bae3455c6f0e308ab": {
          "model_module": "@jupyter-widgets/base",
          "model_name": "LayoutModel",
          "state": {
            "_view_name": "LayoutView",
            "grid_template_rows": null,
            "right": null,
            "justify_content": null,
            "_view_module": "@jupyter-widgets/base",
            "overflow": null,
            "_model_module_version": "1.2.0",
            "_view_count": null,
            "flex_flow": null,
            "width": null,
            "min_width": null,
            "border": null,
            "align_items": null,
            "bottom": null,
            "_model_module": "@jupyter-widgets/base",
            "top": null,
            "grid_column": null,
            "overflow_y": null,
            "overflow_x": null,
            "grid_auto_flow": null,
            "grid_area": null,
            "grid_template_columns": null,
            "flex": null,
            "_model_name": "LayoutModel",
            "justify_items": null,
            "grid_row": null,
            "max_height": null,
            "align_content": null,
            "visibility": null,
            "align_self": null,
            "height": null,
            "min_height": null,
            "padding": null,
            "grid_auto_rows": null,
            "grid_gap": null,
            "max_width": null,
            "order": null,
            "_view_module_version": "1.2.0",
            "grid_template_areas": null,
            "object_position": null,
            "object_fit": null,
            "grid_auto_columns": null,
            "margin": null,
            "display": null,
            "left": null
          }
        },
        "feac16222b3446c39b0d0ae69c929910": {
          "model_module": "@jupyter-widgets/controls",
          "model_name": "FloatProgressModel",
          "state": {
            "_view_name": "ProgressView",
            "style": "IPY_MODEL_d11f02ec43a54196992fe337d6984760",
            "_dom_classes": [],
            "description": "Downloading: 100%",
            "_model_name": "FloatProgressModel",
            "bar_style": "success",
            "max": 26,
            "_view_module": "@jupyter-widgets/controls",
            "_model_module_version": "1.5.0",
            "value": 26,
            "_view_count": null,
            "_view_module_version": "1.5.0",
            "orientation": "horizontal",
            "min": 0,
            "description_tooltip": null,
            "_model_module": "@jupyter-widgets/controls",
            "layout": "IPY_MODEL_f2a3988576e74ee9870969ddac3acd84"
          }
        },
        "e02cea0c14294830a0c16abb054c430c": {
          "model_module": "@jupyter-widgets/controls",
          "model_name": "HTMLModel",
          "state": {
            "_view_name": "HTMLView",
            "style": "IPY_MODEL_bd31798afc4c4d51a0127a32447293e6",
            "_dom_classes": [],
            "description": "",
            "_model_name": "HTMLModel",
            "placeholder": "​",
            "_view_module": "@jupyter-widgets/controls",
            "_model_module_version": "1.5.0",
            "value": " 26.0/26.0 [00:00&lt;00:00, 190B/s]",
            "_view_count": null,
            "_view_module_version": "1.5.0",
            "description_tooltip": null,
            "_model_module": "@jupyter-widgets/controls",
            "layout": "IPY_MODEL_6a1ceaa8a3ab47c387ec4a0bb9273638"
          }
        },
        "d11f02ec43a54196992fe337d6984760": {
          "model_module": "@jupyter-widgets/controls",
          "model_name": "ProgressStyleModel",
          "state": {
            "_view_name": "StyleView",
            "_model_name": "ProgressStyleModel",
            "description_width": "initial",
            "_view_module": "@jupyter-widgets/base",
            "_model_module_version": "1.5.0",
            "_view_count": null,
            "_view_module_version": "1.2.0",
            "bar_color": null,
            "_model_module": "@jupyter-widgets/controls"
          }
        },
        "f2a3988576e74ee9870969ddac3acd84": {
          "model_module": "@jupyter-widgets/base",
          "model_name": "LayoutModel",
          "state": {
            "_view_name": "LayoutView",
            "grid_template_rows": null,
            "right": null,
            "justify_content": null,
            "_view_module": "@jupyter-widgets/base",
            "overflow": null,
            "_model_module_version": "1.2.0",
            "_view_count": null,
            "flex_flow": null,
            "width": null,
            "min_width": null,
            "border": null,
            "align_items": null,
            "bottom": null,
            "_model_module": "@jupyter-widgets/base",
            "top": null,
            "grid_column": null,
            "overflow_y": null,
            "overflow_x": null,
            "grid_auto_flow": null,
            "grid_area": null,
            "grid_template_columns": null,
            "flex": null,
            "_model_name": "LayoutModel",
            "justify_items": null,
            "grid_row": null,
            "max_height": null,
            "align_content": null,
            "visibility": null,
            "align_self": null,
            "height": null,
            "min_height": null,
            "padding": null,
            "grid_auto_rows": null,
            "grid_gap": null,
            "max_width": null,
            "order": null,
            "_view_module_version": "1.2.0",
            "grid_template_areas": null,
            "object_position": null,
            "object_fit": null,
            "grid_auto_columns": null,
            "margin": null,
            "display": null,
            "left": null
          }
        },
        "bd31798afc4c4d51a0127a32447293e6": {
          "model_module": "@jupyter-widgets/controls",
          "model_name": "DescriptionStyleModel",
          "state": {
            "_view_name": "StyleView",
            "_model_name": "DescriptionStyleModel",
            "description_width": "",
            "_view_module": "@jupyter-widgets/base",
            "_model_module_version": "1.5.0",
            "_view_count": null,
            "_view_module_version": "1.2.0",
            "_model_module": "@jupyter-widgets/controls"
          }
        },
        "6a1ceaa8a3ab47c387ec4a0bb9273638": {
          "model_module": "@jupyter-widgets/base",
          "model_name": "LayoutModel",
          "state": {
            "_view_name": "LayoutView",
            "grid_template_rows": null,
            "right": null,
            "justify_content": null,
            "_view_module": "@jupyter-widgets/base",
            "overflow": null,
            "_model_module_version": "1.2.0",
            "_view_count": null,
            "flex_flow": null,
            "width": null,
            "min_width": null,
            "border": null,
            "align_items": null,
            "bottom": null,
            "_model_module": "@jupyter-widgets/base",
            "top": null,
            "grid_column": null,
            "overflow_y": null,
            "overflow_x": null,
            "grid_auto_flow": null,
            "grid_area": null,
            "grid_template_columns": null,
            "flex": null,
            "_model_name": "LayoutModel",
            "justify_items": null,
            "grid_row": null,
            "max_height": null,
            "align_content": null,
            "visibility": null,
            "align_self": null,
            "height": null,
            "min_height": null,
            "padding": null,
            "grid_auto_rows": null,
            "grid_gap": null,
            "max_width": null,
            "order": null,
            "_view_module_version": "1.2.0",
            "grid_template_areas": null,
            "object_position": null,
            "object_fit": null,
            "grid_auto_columns": null,
            "margin": null,
            "display": null,
            "left": null
          }
        },
        "d554bd4b77c94c0d911a9216bc9f5407": {
          "model_module": "@jupyter-widgets/controls",
          "model_name": "HBoxModel",
          "state": {
            "_view_name": "HBoxView",
            "_dom_classes": [],
            "_model_name": "HBoxModel",
            "_view_module": "@jupyter-widgets/controls",
            "_model_module_version": "1.5.0",
            "_view_count": null,
            "_view_module_version": "1.5.0",
            "box_style": "",
            "layout": "IPY_MODEL_81a1693d48fb475aa10f426a53d90137",
            "_model_module": "@jupyter-widgets/controls",
            "children": [
              "IPY_MODEL_43d844eb9eb04ca0bceffd07365c315a",
              "IPY_MODEL_e4b9cc2c00cb4a909c0b7a5a7bac4788"
            ]
          }
        },
        "81a1693d48fb475aa10f426a53d90137": {
          "model_module": "@jupyter-widgets/base",
          "model_name": "LayoutModel",
          "state": {
            "_view_name": "LayoutView",
            "grid_template_rows": null,
            "right": null,
            "justify_content": null,
            "_view_module": "@jupyter-widgets/base",
            "overflow": null,
            "_model_module_version": "1.2.0",
            "_view_count": null,
            "flex_flow": null,
            "width": null,
            "min_width": null,
            "border": null,
            "align_items": null,
            "bottom": null,
            "_model_module": "@jupyter-widgets/base",
            "top": null,
            "grid_column": null,
            "overflow_y": null,
            "overflow_x": null,
            "grid_auto_flow": null,
            "grid_area": null,
            "grid_template_columns": null,
            "flex": null,
            "_model_name": "LayoutModel",
            "justify_items": null,
            "grid_row": null,
            "max_height": null,
            "align_content": null,
            "visibility": null,
            "align_self": null,
            "height": null,
            "min_height": null,
            "padding": null,
            "grid_auto_rows": null,
            "grid_gap": null,
            "max_width": null,
            "order": null,
            "_view_module_version": "1.2.0",
            "grid_template_areas": null,
            "object_position": null,
            "object_fit": null,
            "grid_auto_columns": null,
            "margin": null,
            "display": null,
            "left": null
          }
        },
        "43d844eb9eb04ca0bceffd07365c315a": {
          "model_module": "@jupyter-widgets/controls",
          "model_name": "FloatProgressModel",
          "state": {
            "_view_name": "ProgressView",
            "style": "IPY_MODEL_595857c9ede04c74a452193f49e31e95",
            "_dom_classes": [],
            "description": "Downloading: 100%",
            "_model_name": "FloatProgressModel",
            "bar_style": "success",
            "max": 898822,
            "_view_module": "@jupyter-widgets/controls",
            "_model_module_version": "1.5.0",
            "value": 898822,
            "_view_count": null,
            "_view_module_version": "1.5.0",
            "orientation": "horizontal",
            "min": 0,
            "description_tooltip": null,
            "_model_module": "@jupyter-widgets/controls",
            "layout": "IPY_MODEL_badbdc60a60e4ad6a346eb6fa5e1a162"
          }
        },
        "e4b9cc2c00cb4a909c0b7a5a7bac4788": {
          "model_module": "@jupyter-widgets/controls",
          "model_name": "HTMLModel",
          "state": {
            "_view_name": "HTMLView",
            "style": "IPY_MODEL_266b9469aeda4dc0a5028104a3a30e22",
            "_dom_classes": [],
            "description": "",
            "_model_name": "HTMLModel",
            "placeholder": "​",
            "_view_module": "@jupyter-widgets/controls",
            "_model_module_version": "1.5.0",
            "value": " 899k/899k [00:00&lt;00:00, 2.06MB/s]",
            "_view_count": null,
            "_view_module_version": "1.5.0",
            "description_tooltip": null,
            "_model_module": "@jupyter-widgets/controls",
            "layout": "IPY_MODEL_97fb689f28684003a662598cdbe6ea46"
          }
        },
        "595857c9ede04c74a452193f49e31e95": {
          "model_module": "@jupyter-widgets/controls",
          "model_name": "ProgressStyleModel",
          "state": {
            "_view_name": "StyleView",
            "_model_name": "ProgressStyleModel",
            "description_width": "initial",
            "_view_module": "@jupyter-widgets/base",
            "_model_module_version": "1.5.0",
            "_view_count": null,
            "_view_module_version": "1.2.0",
            "bar_color": null,
            "_model_module": "@jupyter-widgets/controls"
          }
        },
        "badbdc60a60e4ad6a346eb6fa5e1a162": {
          "model_module": "@jupyter-widgets/base",
          "model_name": "LayoutModel",
          "state": {
            "_view_name": "LayoutView",
            "grid_template_rows": null,
            "right": null,
            "justify_content": null,
            "_view_module": "@jupyter-widgets/base",
            "overflow": null,
            "_model_module_version": "1.2.0",
            "_view_count": null,
            "flex_flow": null,
            "width": null,
            "min_width": null,
            "border": null,
            "align_items": null,
            "bottom": null,
            "_model_module": "@jupyter-widgets/base",
            "top": null,
            "grid_column": null,
            "overflow_y": null,
            "overflow_x": null,
            "grid_auto_flow": null,
            "grid_area": null,
            "grid_template_columns": null,
            "flex": null,
            "_model_name": "LayoutModel",
            "justify_items": null,
            "grid_row": null,
            "max_height": null,
            "align_content": null,
            "visibility": null,
            "align_self": null,
            "height": null,
            "min_height": null,
            "padding": null,
            "grid_auto_rows": null,
            "grid_gap": null,
            "max_width": null,
            "order": null,
            "_view_module_version": "1.2.0",
            "grid_template_areas": null,
            "object_position": null,
            "object_fit": null,
            "grid_auto_columns": null,
            "margin": null,
            "display": null,
            "left": null
          }
        },
        "266b9469aeda4dc0a5028104a3a30e22": {
          "model_module": "@jupyter-widgets/controls",
          "model_name": "DescriptionStyleModel",
          "state": {
            "_view_name": "StyleView",
            "_model_name": "DescriptionStyleModel",
            "description_width": "",
            "_view_module": "@jupyter-widgets/base",
            "_model_module_version": "1.5.0",
            "_view_count": null,
            "_view_module_version": "1.2.0",
            "_model_module": "@jupyter-widgets/controls"
          }
        },
        "97fb689f28684003a662598cdbe6ea46": {
          "model_module": "@jupyter-widgets/base",
          "model_name": "LayoutModel",
          "state": {
            "_view_name": "LayoutView",
            "grid_template_rows": null,
            "right": null,
            "justify_content": null,
            "_view_module": "@jupyter-widgets/base",
            "overflow": null,
            "_model_module_version": "1.2.0",
            "_view_count": null,
            "flex_flow": null,
            "width": null,
            "min_width": null,
            "border": null,
            "align_items": null,
            "bottom": null,
            "_model_module": "@jupyter-widgets/base",
            "top": null,
            "grid_column": null,
            "overflow_y": null,
            "overflow_x": null,
            "grid_auto_flow": null,
            "grid_area": null,
            "grid_template_columns": null,
            "flex": null,
            "_model_name": "LayoutModel",
            "justify_items": null,
            "grid_row": null,
            "max_height": null,
            "align_content": null,
            "visibility": null,
            "align_self": null,
            "height": null,
            "min_height": null,
            "padding": null,
            "grid_auto_rows": null,
            "grid_gap": null,
            "max_width": null,
            "order": null,
            "_view_module_version": "1.2.0",
            "grid_template_areas": null,
            "object_position": null,
            "object_fit": null,
            "grid_auto_columns": null,
            "margin": null,
            "display": null,
            "left": null
          }
        },
        "aa1506bdac3c4297b03f100657d43296": {
          "model_module": "@jupyter-widgets/controls",
          "model_name": "HBoxModel",
          "state": {
            "_view_name": "HBoxView",
            "_dom_classes": [],
            "_model_name": "HBoxModel",
            "_view_module": "@jupyter-widgets/controls",
            "_model_module_version": "1.5.0",
            "_view_count": null,
            "_view_module_version": "1.5.0",
            "box_style": "",
            "layout": "IPY_MODEL_b68744f846624a7eab8808d40760b1e3",
            "_model_module": "@jupyter-widgets/controls",
            "children": [
              "IPY_MODEL_c5fb224726ea4c7e8d522052d4d64a29",
              "IPY_MODEL_b98003dddf47469e903990d9f2abd01c"
            ]
          }
        },
        "b68744f846624a7eab8808d40760b1e3": {
          "model_module": "@jupyter-widgets/base",
          "model_name": "LayoutModel",
          "state": {
            "_view_name": "LayoutView",
            "grid_template_rows": null,
            "right": null,
            "justify_content": null,
            "_view_module": "@jupyter-widgets/base",
            "overflow": null,
            "_model_module_version": "1.2.0",
            "_view_count": null,
            "flex_flow": null,
            "width": null,
            "min_width": null,
            "border": null,
            "align_items": null,
            "bottom": null,
            "_model_module": "@jupyter-widgets/base",
            "top": null,
            "grid_column": null,
            "overflow_y": null,
            "overflow_x": null,
            "grid_auto_flow": null,
            "grid_area": null,
            "grid_template_columns": null,
            "flex": null,
            "_model_name": "LayoutModel",
            "justify_items": null,
            "grid_row": null,
            "max_height": null,
            "align_content": null,
            "visibility": null,
            "align_self": null,
            "height": null,
            "min_height": null,
            "padding": null,
            "grid_auto_rows": null,
            "grid_gap": null,
            "max_width": null,
            "order": null,
            "_view_module_version": "1.2.0",
            "grid_template_areas": null,
            "object_position": null,
            "object_fit": null,
            "grid_auto_columns": null,
            "margin": null,
            "display": null,
            "left": null
          }
        },
        "c5fb224726ea4c7e8d522052d4d64a29": {
          "model_module": "@jupyter-widgets/controls",
          "model_name": "FloatProgressModel",
          "state": {
            "_view_name": "ProgressView",
            "style": "IPY_MODEL_8015079765d74eebaf74a2b859704818",
            "_dom_classes": [],
            "description": "Downloading: 100%",
            "_model_name": "FloatProgressModel",
            "bar_style": "success",
            "max": 456318,
            "_view_module": "@jupyter-widgets/controls",
            "_model_module_version": "1.5.0",
            "value": 456318,
            "_view_count": null,
            "_view_module_version": "1.5.0",
            "orientation": "horizontal",
            "min": 0,
            "description_tooltip": null,
            "_model_module": "@jupyter-widgets/controls",
            "layout": "IPY_MODEL_7898926fd0ea498aa23acf8458067bfb"
          }
        },
        "b98003dddf47469e903990d9f2abd01c": {
          "model_module": "@jupyter-widgets/controls",
          "model_name": "HTMLModel",
          "state": {
            "_view_name": "HTMLView",
            "style": "IPY_MODEL_ba196e78a5514af0999c371df4bdfd82",
            "_dom_classes": [],
            "description": "",
            "_model_name": "HTMLModel",
            "placeholder": "​",
            "_view_module": "@jupyter-widgets/controls",
            "_model_module_version": "1.5.0",
            "value": " 456k/456k [00:00&lt;00:00, 1.61MB/s]",
            "_view_count": null,
            "_view_module_version": "1.5.0",
            "description_tooltip": null,
            "_model_module": "@jupyter-widgets/controls",
            "layout": "IPY_MODEL_c94a4fece55542848b9ecd0c9d5862bb"
          }
        },
        "8015079765d74eebaf74a2b859704818": {
          "model_module": "@jupyter-widgets/controls",
          "model_name": "ProgressStyleModel",
          "state": {
            "_view_name": "StyleView",
            "_model_name": "ProgressStyleModel",
            "description_width": "initial",
            "_view_module": "@jupyter-widgets/base",
            "_model_module_version": "1.5.0",
            "_view_count": null,
            "_view_module_version": "1.2.0",
            "bar_color": null,
            "_model_module": "@jupyter-widgets/controls"
          }
        },
        "7898926fd0ea498aa23acf8458067bfb": {
          "model_module": "@jupyter-widgets/base",
          "model_name": "LayoutModel",
          "state": {
            "_view_name": "LayoutView",
            "grid_template_rows": null,
            "right": null,
            "justify_content": null,
            "_view_module": "@jupyter-widgets/base",
            "overflow": null,
            "_model_module_version": "1.2.0",
            "_view_count": null,
            "flex_flow": null,
            "width": null,
            "min_width": null,
            "border": null,
            "align_items": null,
            "bottom": null,
            "_model_module": "@jupyter-widgets/base",
            "top": null,
            "grid_column": null,
            "overflow_y": null,
            "overflow_x": null,
            "grid_auto_flow": null,
            "grid_area": null,
            "grid_template_columns": null,
            "flex": null,
            "_model_name": "LayoutModel",
            "justify_items": null,
            "grid_row": null,
            "max_height": null,
            "align_content": null,
            "visibility": null,
            "align_self": null,
            "height": null,
            "min_height": null,
            "padding": null,
            "grid_auto_rows": null,
            "grid_gap": null,
            "max_width": null,
            "order": null,
            "_view_module_version": "1.2.0",
            "grid_template_areas": null,
            "object_position": null,
            "object_fit": null,
            "grid_auto_columns": null,
            "margin": null,
            "display": null,
            "left": null
          }
        },
        "ba196e78a5514af0999c371df4bdfd82": {
          "model_module": "@jupyter-widgets/controls",
          "model_name": "DescriptionStyleModel",
          "state": {
            "_view_name": "StyleView",
            "_model_name": "DescriptionStyleModel",
            "description_width": "",
            "_view_module": "@jupyter-widgets/base",
            "_model_module_version": "1.5.0",
            "_view_count": null,
            "_view_module_version": "1.2.0",
            "_model_module": "@jupyter-widgets/controls"
          }
        },
        "c94a4fece55542848b9ecd0c9d5862bb": {
          "model_module": "@jupyter-widgets/base",
          "model_name": "LayoutModel",
          "state": {
            "_view_name": "LayoutView",
            "grid_template_rows": null,
            "right": null,
            "justify_content": null,
            "_view_module": "@jupyter-widgets/base",
            "overflow": null,
            "_model_module_version": "1.2.0",
            "_view_count": null,
            "flex_flow": null,
            "width": null,
            "min_width": null,
            "border": null,
            "align_items": null,
            "bottom": null,
            "_model_module": "@jupyter-widgets/base",
            "top": null,
            "grid_column": null,
            "overflow_y": null,
            "overflow_x": null,
            "grid_auto_flow": null,
            "grid_area": null,
            "grid_template_columns": null,
            "flex": null,
            "_model_name": "LayoutModel",
            "justify_items": null,
            "grid_row": null,
            "max_height": null,
            "align_content": null,
            "visibility": null,
            "align_self": null,
            "height": null,
            "min_height": null,
            "padding": null,
            "grid_auto_rows": null,
            "grid_gap": null,
            "max_width": null,
            "order": null,
            "_view_module_version": "1.2.0",
            "grid_template_areas": null,
            "object_position": null,
            "object_fit": null,
            "grid_auto_columns": null,
            "margin": null,
            "display": null,
            "left": null
          }
        },
        "776d1d54f59a4f50b1ea82d0c9ac804c": {
          "model_module": "@jupyter-widgets/controls",
          "model_name": "HBoxModel",
          "state": {
            "_view_name": "HBoxView",
            "_dom_classes": [],
            "_model_name": "HBoxModel",
            "_view_module": "@jupyter-widgets/controls",
            "_model_module_version": "1.5.0",
            "_view_count": null,
            "_view_module_version": "1.5.0",
            "box_style": "",
            "layout": "IPY_MODEL_a6ba8306a1e043a4b5ee97f270ee1805",
            "_model_module": "@jupyter-widgets/controls",
            "children": [
              "IPY_MODEL_c8a9f1fdf9754291a6278e2141ffdeed",
              "IPY_MODEL_63844aa8520a47128f5cfff9c407d0a7"
            ]
          }
        },
        "a6ba8306a1e043a4b5ee97f270ee1805": {
          "model_module": "@jupyter-widgets/base",
          "model_name": "LayoutModel",
          "state": {
            "_view_name": "LayoutView",
            "grid_template_rows": null,
            "right": null,
            "justify_content": null,
            "_view_module": "@jupyter-widgets/base",
            "overflow": null,
            "_model_module_version": "1.2.0",
            "_view_count": null,
            "flex_flow": null,
            "width": null,
            "min_width": null,
            "border": null,
            "align_items": null,
            "bottom": null,
            "_model_module": "@jupyter-widgets/base",
            "top": null,
            "grid_column": null,
            "overflow_y": null,
            "overflow_x": null,
            "grid_auto_flow": null,
            "grid_area": null,
            "grid_template_columns": null,
            "flex": null,
            "_model_name": "LayoutModel",
            "justify_items": null,
            "grid_row": null,
            "max_height": null,
            "align_content": null,
            "visibility": null,
            "align_self": null,
            "height": null,
            "min_height": null,
            "padding": null,
            "grid_auto_rows": null,
            "grid_gap": null,
            "max_width": null,
            "order": null,
            "_view_module_version": "1.2.0",
            "grid_template_areas": null,
            "object_position": null,
            "object_fit": null,
            "grid_auto_columns": null,
            "margin": null,
            "display": null,
            "left": null
          }
        },
        "c8a9f1fdf9754291a6278e2141ffdeed": {
          "model_module": "@jupyter-widgets/controls",
          "model_name": "FloatProgressModel",
          "state": {
            "_view_name": "ProgressView",
            "style": "IPY_MODEL_e0d0dc53956c488e869fa5f20e92f76d",
            "_dom_classes": [],
            "description": "Downloading: 100%",
            "_model_name": "FloatProgressModel",
            "bar_style": "success",
            "max": 772,
            "_view_module": "@jupyter-widgets/controls",
            "_model_module_version": "1.5.0",
            "value": 772,
            "_view_count": null,
            "_view_module_version": "1.5.0",
            "orientation": "horizontal",
            "min": 0,
            "description_tooltip": null,
            "_model_module": "@jupyter-widgets/controls",
            "layout": "IPY_MODEL_42958ed6e0c845c886d73ba3103a07a0"
          }
        },
        "63844aa8520a47128f5cfff9c407d0a7": {
          "model_module": "@jupyter-widgets/controls",
          "model_name": "HTMLModel",
          "state": {
            "_view_name": "HTMLView",
            "style": "IPY_MODEL_29f75a9410d040fd82922b1a59dab78d",
            "_dom_classes": [],
            "description": "",
            "_model_name": "HTMLModel",
            "placeholder": "​",
            "_view_module": "@jupyter-widgets/controls",
            "_model_module_version": "1.5.0",
            "value": " 772/772 [00:00&lt;00:00, 6.78kB/s]",
            "_view_count": null,
            "_view_module_version": "1.5.0",
            "description_tooltip": null,
            "_model_module": "@jupyter-widgets/controls",
            "layout": "IPY_MODEL_c678a7128619491f8bd4722d4ea93b51"
          }
        },
        "e0d0dc53956c488e869fa5f20e92f76d": {
          "model_module": "@jupyter-widgets/controls",
          "model_name": "ProgressStyleModel",
          "state": {
            "_view_name": "StyleView",
            "_model_name": "ProgressStyleModel",
            "description_width": "initial",
            "_view_module": "@jupyter-widgets/base",
            "_model_module_version": "1.5.0",
            "_view_count": null,
            "_view_module_version": "1.2.0",
            "bar_color": null,
            "_model_module": "@jupyter-widgets/controls"
          }
        },
        "42958ed6e0c845c886d73ba3103a07a0": {
          "model_module": "@jupyter-widgets/base",
          "model_name": "LayoutModel",
          "state": {
            "_view_name": "LayoutView",
            "grid_template_rows": null,
            "right": null,
            "justify_content": null,
            "_view_module": "@jupyter-widgets/base",
            "overflow": null,
            "_model_module_version": "1.2.0",
            "_view_count": null,
            "flex_flow": null,
            "width": null,
            "min_width": null,
            "border": null,
            "align_items": null,
            "bottom": null,
            "_model_module": "@jupyter-widgets/base",
            "top": null,
            "grid_column": null,
            "overflow_y": null,
            "overflow_x": null,
            "grid_auto_flow": null,
            "grid_area": null,
            "grid_template_columns": null,
            "flex": null,
            "_model_name": "LayoutModel",
            "justify_items": null,
            "grid_row": null,
            "max_height": null,
            "align_content": null,
            "visibility": null,
            "align_self": null,
            "height": null,
            "min_height": null,
            "padding": null,
            "grid_auto_rows": null,
            "grid_gap": null,
            "max_width": null,
            "order": null,
            "_view_module_version": "1.2.0",
            "grid_template_areas": null,
            "object_position": null,
            "object_fit": null,
            "grid_auto_columns": null,
            "margin": null,
            "display": null,
            "left": null
          }
        },
        "29f75a9410d040fd82922b1a59dab78d": {
          "model_module": "@jupyter-widgets/controls",
          "model_name": "DescriptionStyleModel",
          "state": {
            "_view_name": "StyleView",
            "_model_name": "DescriptionStyleModel",
            "description_width": "",
            "_view_module": "@jupyter-widgets/base",
            "_model_module_version": "1.5.0",
            "_view_count": null,
            "_view_module_version": "1.2.0",
            "_model_module": "@jupyter-widgets/controls"
          }
        },
        "c678a7128619491f8bd4722d4ea93b51": {
          "model_module": "@jupyter-widgets/base",
          "model_name": "LayoutModel",
          "state": {
            "_view_name": "LayoutView",
            "grid_template_rows": null,
            "right": null,
            "justify_content": null,
            "_view_module": "@jupyter-widgets/base",
            "overflow": null,
            "_model_module_version": "1.2.0",
            "_view_count": null,
            "flex_flow": null,
            "width": null,
            "min_width": null,
            "border": null,
            "align_items": null,
            "bottom": null,
            "_model_module": "@jupyter-widgets/base",
            "top": null,
            "grid_column": null,
            "overflow_y": null,
            "overflow_x": null,
            "grid_auto_flow": null,
            "grid_area": null,
            "grid_template_columns": null,
            "flex": null,
            "_model_name": "LayoutModel",
            "justify_items": null,
            "grid_row": null,
            "max_height": null,
            "align_content": null,
            "visibility": null,
            "align_self": null,
            "height": null,
            "min_height": null,
            "padding": null,
            "grid_auto_rows": null,
            "grid_gap": null,
            "max_width": null,
            "order": null,
            "_view_module_version": "1.2.0",
            "grid_template_areas": null,
            "object_position": null,
            "object_fit": null,
            "grid_auto_columns": null,
            "margin": null,
            "display": null,
            "left": null
          }
        }
      }
    }
  },
  "cells": [
    {
      "cell_type": "markdown",
      "metadata": {
        "id": "view-in-github",
        "colab_type": "text"
      },
      "source": [
        "<a href=\"https://colab.research.google.com/github/CDU-data-science-team/zero-shot/blob/feature-Huggingface_transformer/Patient_Feedback_with_Hugging_Transformer.ipynb\" target=\"_parent\"><img src=\"https://colab.research.google.com/assets/colab-badge.svg\" alt=\"Open In Colab\"/></a>"
      ]
    },
    {
      "cell_type": "code",
      "metadata": {
        "colab": {
          "base_uri": "https://localhost:8080/"
        },
        "id": "hyYQ_G6QDyYA",
        "outputId": "d9c347f1-b488-4e38-9ac9-537918246eed"
      },
      "source": [
        "!pip install transformers"
      ],
      "execution_count": null,
      "outputs": [
        {
          "output_type": "stream",
          "text": [
            "Collecting transformers\n",
            "  Downloading transformers-4.8.2-py3-none-any.whl (2.5 MB)\n",
            "\u001b[?25l\r\u001b[K     |▏                               | 10 kB 35.1 MB/s eta 0:00:01\r\u001b[K     |▎                               | 20 kB 36.2 MB/s eta 0:00:01\r\u001b[K     |▍                               | 30 kB 39.2 MB/s eta 0:00:01\r\u001b[K     |▌                               | 40 kB 39.9 MB/s eta 0:00:01\r\u001b[K     |▋                               | 51 kB 41.1 MB/s eta 0:00:01\r\u001b[K     |▉                               | 61 kB 43.1 MB/s eta 0:00:01\r\u001b[K     |█                               | 71 kB 42.4 MB/s eta 0:00:01\r\u001b[K     |█                               | 81 kB 42.7 MB/s eta 0:00:01\r\u001b[K     |█▏                              | 92 kB 44.5 MB/s eta 0:00:01\r\u001b[K     |█▎                              | 102 kB 45.3 MB/s eta 0:00:01\r\u001b[K     |█▍                              | 112 kB 45.3 MB/s eta 0:00:01\r\u001b[K     |█▋                              | 122 kB 45.3 MB/s eta 0:00:01\r\u001b[K     |█▊                              | 133 kB 45.3 MB/s eta 0:00:01\r\u001b[K     |█▉                              | 143 kB 45.3 MB/s eta 0:00:01\r\u001b[K     |██                              | 153 kB 45.3 MB/s eta 0:00:01\r\u001b[K     |██                              | 163 kB 45.3 MB/s eta 0:00:01\r\u001b[K     |██▎                             | 174 kB 45.3 MB/s eta 0:00:01\r\u001b[K     |██▍                             | 184 kB 45.3 MB/s eta 0:00:01\r\u001b[K     |██▌                             | 194 kB 45.3 MB/s eta 0:00:01\r\u001b[K     |██▋                             | 204 kB 45.3 MB/s eta 0:00:01\r\u001b[K     |██▊                             | 215 kB 45.3 MB/s eta 0:00:01\r\u001b[K     |██▉                             | 225 kB 45.3 MB/s eta 0:00:01\r\u001b[K     |███                             | 235 kB 45.3 MB/s eta 0:00:01\r\u001b[K     |███▏                            | 245 kB 45.3 MB/s eta 0:00:01\r\u001b[K     |███▎                            | 256 kB 45.3 MB/s eta 0:00:01\r\u001b[K     |███▍                            | 266 kB 45.3 MB/s eta 0:00:01\r\u001b[K     |███▌                            | 276 kB 45.3 MB/s eta 0:00:01\r\u001b[K     |███▊                            | 286 kB 45.3 MB/s eta 0:00:01\r\u001b[K     |███▉                            | 296 kB 45.3 MB/s eta 0:00:01\r\u001b[K     |████                            | 307 kB 45.3 MB/s eta 0:00:01\r\u001b[K     |████                            | 317 kB 45.3 MB/s eta 0:00:01\r\u001b[K     |████▏                           | 327 kB 45.3 MB/s eta 0:00:01\r\u001b[K     |████▎                           | 337 kB 45.3 MB/s eta 0:00:01\r\u001b[K     |████▌                           | 348 kB 45.3 MB/s eta 0:00:01\r\u001b[K     |████▋                           | 358 kB 45.3 MB/s eta 0:00:01\r\u001b[K     |████▊                           | 368 kB 45.3 MB/s eta 0:00:01\r\u001b[K     |████▉                           | 378 kB 45.3 MB/s eta 0:00:01\r\u001b[K     |█████                           | 389 kB 45.3 MB/s eta 0:00:01\r\u001b[K     |█████▏                          | 399 kB 45.3 MB/s eta 0:00:01\r\u001b[K     |█████▎                          | 409 kB 45.3 MB/s eta 0:00:01\r\u001b[K     |█████▍                          | 419 kB 45.3 MB/s eta 0:00:01\r\u001b[K     |█████▌                          | 430 kB 45.3 MB/s eta 0:00:01\r\u001b[K     |█████▋                          | 440 kB 45.3 MB/s eta 0:00:01\r\u001b[K     |█████▊                          | 450 kB 45.3 MB/s eta 0:00:01\r\u001b[K     |██████                          | 460 kB 45.3 MB/s eta 0:00:01\r\u001b[K     |██████                          | 471 kB 45.3 MB/s eta 0:00:01\r\u001b[K     |██████▏                         | 481 kB 45.3 MB/s eta 0:00:01\r\u001b[K     |██████▎                         | 491 kB 45.3 MB/s eta 0:00:01\r\u001b[K     |██████▍                         | 501 kB 45.3 MB/s eta 0:00:01\r\u001b[K     |██████▌                         | 512 kB 45.3 MB/s eta 0:00:01\r\u001b[K     |██████▊                         | 522 kB 45.3 MB/s eta 0:00:01\r\u001b[K     |██████▉                         | 532 kB 45.3 MB/s eta 0:00:01\r\u001b[K     |███████                         | 542 kB 45.3 MB/s eta 0:00:01\r\u001b[K     |███████                         | 552 kB 45.3 MB/s eta 0:00:01\r\u001b[K     |███████▏                        | 563 kB 45.3 MB/s eta 0:00:01\r\u001b[K     |███████▍                        | 573 kB 45.3 MB/s eta 0:00:01\r\u001b[K     |███████▌                        | 583 kB 45.3 MB/s eta 0:00:01\r\u001b[K     |███████▋                        | 593 kB 45.3 MB/s eta 0:00:01\r\u001b[K     |███████▊                        | 604 kB 45.3 MB/s eta 0:00:01\r\u001b[K     |███████▉                        | 614 kB 45.3 MB/s eta 0:00:01\r\u001b[K     |████████                        | 624 kB 45.3 MB/s eta 0:00:01\r\u001b[K     |████████▏                       | 634 kB 45.3 MB/s eta 0:00:01\r\u001b[K     |████████▎                       | 645 kB 45.3 MB/s eta 0:00:01\r\u001b[K     |████████▍                       | 655 kB 45.3 MB/s eta 0:00:01\r\u001b[K     |████████▌                       | 665 kB 45.3 MB/s eta 0:00:01\r\u001b[K     |████████▋                       | 675 kB 45.3 MB/s eta 0:00:01\r\u001b[K     |████████▉                       | 686 kB 45.3 MB/s eta 0:00:01\r\u001b[K     |█████████                       | 696 kB 45.3 MB/s eta 0:00:01\r\u001b[K     |█████████                       | 706 kB 45.3 MB/s eta 0:00:01\r\u001b[K     |█████████▏                      | 716 kB 45.3 MB/s eta 0:00:01\r\u001b[K     |█████████▎                      | 727 kB 45.3 MB/s eta 0:00:01\r\u001b[K     |█████████▍                      | 737 kB 45.3 MB/s eta 0:00:01\r\u001b[K     |█████████▋                      | 747 kB 45.3 MB/s eta 0:00:01\r\u001b[K     |█████████▊                      | 757 kB 45.3 MB/s eta 0:00:01\r\u001b[K     |█████████▉                      | 768 kB 45.3 MB/s eta 0:00:01\r\u001b[K     |██████████                      | 778 kB 45.3 MB/s eta 0:00:01\r\u001b[K     |██████████                      | 788 kB 45.3 MB/s eta 0:00:01\r\u001b[K     |██████████▎                     | 798 kB 45.3 MB/s eta 0:00:01\r\u001b[K     |██████████▍                     | 808 kB 45.3 MB/s eta 0:00:01\r\u001b[K     |██████████▌                     | 819 kB 45.3 MB/s eta 0:00:01\r\u001b[K     |██████████▋                     | 829 kB 45.3 MB/s eta 0:00:01\r\u001b[K     |██████████▊                     | 839 kB 45.3 MB/s eta 0:00:01\r\u001b[K     |██████████▉                     | 849 kB 45.3 MB/s eta 0:00:01\r\u001b[K     |███████████                     | 860 kB 45.3 MB/s eta 0:00:01\r\u001b[K     |███████████▏                    | 870 kB 45.3 MB/s eta 0:00:01\r\u001b[K     |███████████▎                    | 880 kB 45.3 MB/s eta 0:00:01\r\u001b[K     |███████████▍                    | 890 kB 45.3 MB/s eta 0:00:01\r\u001b[K     |███████████▌                    | 901 kB 45.3 MB/s eta 0:00:01\r\u001b[K     |███████████▊                    | 911 kB 45.3 MB/s eta 0:00:01\r\u001b[K     |███████████▉                    | 921 kB 45.3 MB/s eta 0:00:01\r\u001b[K     |████████████                    | 931 kB 45.3 MB/s eta 0:00:01\r\u001b[K     |████████████                    | 942 kB 45.3 MB/s eta 0:00:01\r\u001b[K     |████████████▏                   | 952 kB 45.3 MB/s eta 0:00:01\r\u001b[K     |████████████▎                   | 962 kB 45.3 MB/s eta 0:00:01\r\u001b[K     |████████████▌                   | 972 kB 45.3 MB/s eta 0:00:01\r\u001b[K     |████████████▋                   | 983 kB 45.3 MB/s eta 0:00:01\r\u001b[K     |████████████▊                   | 993 kB 45.3 MB/s eta 0:00:01\r\u001b[K     |████████████▉                   | 1.0 MB 45.3 MB/s eta 0:00:01\r\u001b[K     |█████████████                   | 1.0 MB 45.3 MB/s eta 0:00:01\r\u001b[K     |█████████████                   | 1.0 MB 45.3 MB/s eta 0:00:01\r\u001b[K     |█████████████▎                  | 1.0 MB 45.3 MB/s eta 0:00:01\r\u001b[K     |█████████████▍                  | 1.0 MB 45.3 MB/s eta 0:00:01\r\u001b[K     |█████████████▌                  | 1.1 MB 45.3 MB/s eta 0:00:01\r\u001b[K     |█████████████▋                  | 1.1 MB 45.3 MB/s eta 0:00:01\r\u001b[K     |█████████████▊                  | 1.1 MB 45.3 MB/s eta 0:00:01\r\u001b[K     |██████████████                  | 1.1 MB 45.3 MB/s eta 0:00:01\r\u001b[K     |██████████████                  | 1.1 MB 45.3 MB/s eta 0:00:01\r\u001b[K     |██████████████▏                 | 1.1 MB 45.3 MB/s eta 0:00:01\r\u001b[K     |██████████████▎                 | 1.1 MB 45.3 MB/s eta 0:00:01\r\u001b[K     |██████████████▍                 | 1.1 MB 45.3 MB/s eta 0:00:01\r\u001b[K     |██████████████▌                 | 1.1 MB 45.3 MB/s eta 0:00:01\r\u001b[K     |██████████████▊                 | 1.1 MB 45.3 MB/s eta 0:00:01\r\u001b[K     |██████████████▉                 | 1.2 MB 45.3 MB/s eta 0:00:01\r\u001b[K     |███████████████                 | 1.2 MB 45.3 MB/s eta 0:00:01\r\u001b[K     |███████████████                 | 1.2 MB 45.3 MB/s eta 0:00:01\r\u001b[K     |███████████████▏                | 1.2 MB 45.3 MB/s eta 0:00:01\r\u001b[K     |███████████████▍                | 1.2 MB 45.3 MB/s eta 0:00:01\r\u001b[K     |███████████████▌                | 1.2 MB 45.3 MB/s eta 0:00:01\r\u001b[K     |███████████████▋                | 1.2 MB 45.3 MB/s eta 0:00:01\r\u001b[K     |███████████████▊                | 1.2 MB 45.3 MB/s eta 0:00:01\r\u001b[K     |███████████████▉                | 1.2 MB 45.3 MB/s eta 0:00:01\r\u001b[K     |████████████████                | 1.2 MB 45.3 MB/s eta 0:00:01\r\u001b[K     |████████████████▏               | 1.3 MB 45.3 MB/s eta 0:00:01\r\u001b[K     |████████████████▎               | 1.3 MB 45.3 MB/s eta 0:00:01\r\u001b[K     |████████████████▍               | 1.3 MB 45.3 MB/s eta 0:00:01\r\u001b[K     |████████████████▌               | 1.3 MB 45.3 MB/s eta 0:00:01\r\u001b[K     |████████████████▋               | 1.3 MB 45.3 MB/s eta 0:00:01\r\u001b[K     |████████████████▉               | 1.3 MB 45.3 MB/s eta 0:00:01\r\u001b[K     |█████████████████               | 1.3 MB 45.3 MB/s eta 0:00:01\r\u001b[K     |█████████████████               | 1.3 MB 45.3 MB/s eta 0:00:01\r\u001b[K     |█████████████████▏              | 1.3 MB 45.3 MB/s eta 0:00:01\r\u001b[K     |█████████████████▎              | 1.4 MB 45.3 MB/s eta 0:00:01\r\u001b[K     |█████████████████▍              | 1.4 MB 45.3 MB/s eta 0:00:01\r\u001b[K     |█████████████████▋              | 1.4 MB 45.3 MB/s eta 0:00:01\r\u001b[K     |█████████████████▊              | 1.4 MB 45.3 MB/s eta 0:00:01\r\u001b[K     |█████████████████▉              | 1.4 MB 45.3 MB/s eta 0:00:01\r\u001b[K     |██████████████████              | 1.4 MB 45.3 MB/s eta 0:00:01\r\u001b[K     |██████████████████              | 1.4 MB 45.3 MB/s eta 0:00:01\r\u001b[K     |██████████████████▎             | 1.4 MB 45.3 MB/s eta 0:00:01\r\u001b[K     |██████████████████▍             | 1.4 MB 45.3 MB/s eta 0:00:01\r\u001b[K     |██████████████████▌             | 1.4 MB 45.3 MB/s eta 0:00:01\r\u001b[K     |██████████████████▋             | 1.5 MB 45.3 MB/s eta 0:00:01\r\u001b[K     |██████████████████▊             | 1.5 MB 45.3 MB/s eta 0:00:01\r\u001b[K     |██████████████████▉             | 1.5 MB 45.3 MB/s eta 0:00:01\r\u001b[K     |███████████████████             | 1.5 MB 45.3 MB/s eta 0:00:01\r\u001b[K     |███████████████████▏            | 1.5 MB 45.3 MB/s eta 0:00:01\r\u001b[K     |███████████████████▎            | 1.5 MB 45.3 MB/s eta 0:00:01\r\u001b[K     |███████████████████▍            | 1.5 MB 45.3 MB/s eta 0:00:01\r\u001b[K     |███████████████████▌            | 1.5 MB 45.3 MB/s eta 0:00:01\r\u001b[K     |███████████████████▋            | 1.5 MB 45.3 MB/s eta 0:00:01\r\u001b[K     |███████████████████▉            | 1.5 MB 45.3 MB/s eta 0:00:01\r\u001b[K     |████████████████████            | 1.6 MB 45.3 MB/s eta 0:00:01\r\u001b[K     |████████████████████            | 1.6 MB 45.3 MB/s eta 0:00:01\r\u001b[K     |████████████████████▏           | 1.6 MB 45.3 MB/s eta 0:00:01\r\u001b[K     |████████████████████▎           | 1.6 MB 45.3 MB/s eta 0:00:01\r\u001b[K     |████████████████████▌           | 1.6 MB 45.3 MB/s eta 0:00:01\r\u001b[K     |████████████████████▋           | 1.6 MB 45.3 MB/s eta 0:00:01\r\u001b[K     |████████████████████▊           | 1.6 MB 45.3 MB/s eta 0:00:01\r\u001b[K     |████████████████████▉           | 1.6 MB 45.3 MB/s eta 0:00:01\r\u001b[K     |█████████████████████           | 1.6 MB 45.3 MB/s eta 0:00:01\r\u001b[K     |█████████████████████           | 1.6 MB 45.3 MB/s eta 0:00:01\r\u001b[K     |█████████████████████▎          | 1.7 MB 45.3 MB/s eta 0:00:01\r\u001b[K     |█████████████████████▍          | 1.7 MB 45.3 MB/s eta 0:00:01\r\u001b[K     |█████████████████████▌          | 1.7 MB 45.3 MB/s eta 0:00:01\r\u001b[K     |█████████████████████▋          | 1.7 MB 45.3 MB/s eta 0:00:01\r\u001b[K     |█████████████████████▊          | 1.7 MB 45.3 MB/s eta 0:00:01\r\u001b[K     |██████████████████████          | 1.7 MB 45.3 MB/s eta 0:00:01\r\u001b[K     |██████████████████████          | 1.7 MB 45.3 MB/s eta 0:00:01\r\u001b[K     |██████████████████████▏         | 1.7 MB 45.3 MB/s eta 0:00:01\r\u001b[K     |██████████████████████▎         | 1.7 MB 45.3 MB/s eta 0:00:01\r\u001b[K     |██████████████████████▍         | 1.8 MB 45.3 MB/s eta 0:00:01\r\u001b[K     |██████████████████████▌         | 1.8 MB 45.3 MB/s eta 0:00:01\r\u001b[K     |██████████████████████▊         | 1.8 MB 45.3 MB/s eta 0:00:01\r\u001b[K     |██████████████████████▉         | 1.8 MB 45.3 MB/s eta 0:00:01\r\u001b[K     |███████████████████████         | 1.8 MB 45.3 MB/s eta 0:00:01\r\u001b[K     |███████████████████████         | 1.8 MB 45.3 MB/s eta 0:00:01\r\u001b[K     |███████████████████████▏        | 1.8 MB 45.3 MB/s eta 0:00:01\r\u001b[K     |███████████████████████▍        | 1.8 MB 45.3 MB/s eta 0:00:01\r\u001b[K     |███████████████████████▌        | 1.8 MB 45.3 MB/s eta 0:00:01\r\u001b[K     |███████████████████████▋        | 1.8 MB 45.3 MB/s eta 0:00:01\r\u001b[K     |███████████████████████▊        | 1.9 MB 45.3 MB/s eta 0:00:01\r\u001b[K     |███████████████████████▉        | 1.9 MB 45.3 MB/s eta 0:00:01\r\u001b[K     |████████████████████████        | 1.9 MB 45.3 MB/s eta 0:00:01\r\u001b[K     |████████████████████████▏       | 1.9 MB 45.3 MB/s eta 0:00:01\r\u001b[K     |████████████████████████▎       | 1.9 MB 45.3 MB/s eta 0:00:01\r\u001b[K     |████████████████████████▍       | 1.9 MB 45.3 MB/s eta 0:00:01\r\u001b[K     |████████████████████████▌       | 1.9 MB 45.3 MB/s eta 0:00:01\r\u001b[K     |████████████████████████▋       | 1.9 MB 45.3 MB/s eta 0:00:01\r\u001b[K     |████████████████████████▉       | 1.9 MB 45.3 MB/s eta 0:00:01\r\u001b[K     |█████████████████████████       | 1.9 MB 45.3 MB/s eta 0:00:01\r\u001b[K     |█████████████████████████       | 2.0 MB 45.3 MB/s eta 0:00:01\r\u001b[K     |█████████████████████████▏      | 2.0 MB 45.3 MB/s eta 0:00:01\r\u001b[K     |█████████████████████████▎      | 2.0 MB 45.3 MB/s eta 0:00:01\r\u001b[K     |█████████████████████████▍      | 2.0 MB 45.3 MB/s eta 0:00:01\r\u001b[K     |█████████████████████████▋      | 2.0 MB 45.3 MB/s eta 0:00:01\r\u001b[K     |█████████████████████████▊      | 2.0 MB 45.3 MB/s eta 0:00:01\r\u001b[K     |█████████████████████████▉      | 2.0 MB 45.3 MB/s eta 0:00:01\r\u001b[K     |██████████████████████████      | 2.0 MB 45.3 MB/s eta 0:00:01\r\u001b[K     |██████████████████████████      | 2.0 MB 45.3 MB/s eta 0:00:01\r\u001b[K     |██████████████████████████▏     | 2.0 MB 45.3 MB/s eta 0:00:01\r\u001b[K     |██████████████████████████▍     | 2.1 MB 45.3 MB/s eta 0:00:01\r\u001b[K     |██████████████████████████▌     | 2.1 MB 45.3 MB/s eta 0:00:01\r\u001b[K     |██████████████████████████▋     | 2.1 MB 45.3 MB/s eta 0:00:01\r\u001b[K     |██████████████████████████▊     | 2.1 MB 45.3 MB/s eta 0:00:01\r\u001b[K     |██████████████████████████▉     | 2.1 MB 45.3 MB/s eta 0:00:01\r\u001b[K     |███████████████████████████     | 2.1 MB 45.3 MB/s eta 0:00:01\r\u001b[K     |███████████████████████████▏    | 2.1 MB 45.3 MB/s eta 0:00:01\r\u001b[K     |███████████████████████████▎    | 2.1 MB 45.3 MB/s eta 0:00:01\r\u001b[K     |███████████████████████████▍    | 2.1 MB 45.3 MB/s eta 0:00:01\r\u001b[K     |███████████████████████████▌    | 2.2 MB 45.3 MB/s eta 0:00:01\r\u001b[K     |███████████████████████████▋    | 2.2 MB 45.3 MB/s eta 0:00:01\r\u001b[K     |███████████████████████████▉    | 2.2 MB 45.3 MB/s eta 0:00:01\r\u001b[K     |████████████████████████████    | 2.2 MB 45.3 MB/s eta 0:00:01\r\u001b[K     |████████████████████████████    | 2.2 MB 45.3 MB/s eta 0:00:01\r\u001b[K     |████████████████████████████▏   | 2.2 MB 45.3 MB/s eta 0:00:01\r\u001b[K     |████████████████████████████▎   | 2.2 MB 45.3 MB/s eta 0:00:01\r\u001b[K     |████████████████████████████▌   | 2.2 MB 45.3 MB/s eta 0:00:01\r\u001b[K     |████████████████████████████▋   | 2.2 MB 45.3 MB/s eta 0:00:01\r\u001b[K     |████████████████████████████▊   | 2.2 MB 45.3 MB/s eta 0:00:01\r\u001b[K     |████████████████████████████▉   | 2.3 MB 45.3 MB/s eta 0:00:01\r\u001b[K     |█████████████████████████████   | 2.3 MB 45.3 MB/s eta 0:00:01\r\u001b[K     |█████████████████████████████   | 2.3 MB 45.3 MB/s eta 0:00:01\r\u001b[K     |█████████████████████████████▎  | 2.3 MB 45.3 MB/s eta 0:00:01\r\u001b[K     |█████████████████████████████▍  | 2.3 MB 45.3 MB/s eta 0:00:01\r\u001b[K     |█████████████████████████████▌  | 2.3 MB 45.3 MB/s eta 0:00:01\r\u001b[K     |█████████████████████████████▋  | 2.3 MB 45.3 MB/s eta 0:00:01\r\u001b[K     |█████████████████████████████▊  | 2.3 MB 45.3 MB/s eta 0:00:01\r\u001b[K     |██████████████████████████████  | 2.3 MB 45.3 MB/s eta 0:00:01\r\u001b[K     |██████████████████████████████  | 2.3 MB 45.3 MB/s eta 0:00:01\r\u001b[K     |██████████████████████████████▏ | 2.4 MB 45.3 MB/s eta 0:00:01\r\u001b[K     |██████████████████████████████▎ | 2.4 MB 45.3 MB/s eta 0:00:01\r\u001b[K     |██████████████████████████████▍ | 2.4 MB 45.3 MB/s eta 0:00:01\r\u001b[K     |██████████████████████████████▌ | 2.4 MB 45.3 MB/s eta 0:00:01\r\u001b[K     |██████████████████████████████▊ | 2.4 MB 45.3 MB/s eta 0:00:01\r\u001b[K     |██████████████████████████████▉ | 2.4 MB 45.3 MB/s eta 0:00:01\r\u001b[K     |███████████████████████████████ | 2.4 MB 45.3 MB/s eta 0:00:01\r\u001b[K     |███████████████████████████████ | 2.4 MB 45.3 MB/s eta 0:00:01\r\u001b[K     |███████████████████████████████▏| 2.4 MB 45.3 MB/s eta 0:00:01\r\u001b[K     |███████████████████████████████▍| 2.4 MB 45.3 MB/s eta 0:00:01\r\u001b[K     |███████████████████████████████▌| 2.5 MB 45.3 MB/s eta 0:00:01\r\u001b[K     |███████████████████████████████▋| 2.5 MB 45.3 MB/s eta 0:00:01\r\u001b[K     |███████████████████████████████▊| 2.5 MB 45.3 MB/s eta 0:00:01\r\u001b[K     |███████████████████████████████▉| 2.5 MB 45.3 MB/s eta 0:00:01\r\u001b[K     |████████████████████████████████| 2.5 MB 45.3 MB/s eta 0:00:01\r\u001b[K     |████████████████████████████████| 2.5 MB 45.3 MB/s \n",
            "\u001b[?25hRequirement already satisfied: requests in /usr/local/lib/python3.7/dist-packages (from transformers) (2.23.0)\n",
            "Requirement already satisfied: filelock in /usr/local/lib/python3.7/dist-packages (from transformers) (3.0.12)\n",
            "Collecting tokenizers<0.11,>=0.10.1\n",
            "  Downloading tokenizers-0.10.3-cp37-cp37m-manylinux_2_5_x86_64.manylinux1_x86_64.manylinux_2_12_x86_64.manylinux2010_x86_64.whl (3.3 MB)\n",
            "\u001b[K     |████████████████████████████████| 3.3 MB 51.6 MB/s \n",
            "\u001b[?25hRequirement already satisfied: regex!=2019.12.17 in /usr/local/lib/python3.7/dist-packages (from transformers) (2019.12.20)\n",
            "Requirement already satisfied: packaging in /usr/local/lib/python3.7/dist-packages (from transformers) (21.0)\n",
            "Requirement already satisfied: importlib-metadata in /usr/local/lib/python3.7/dist-packages (from transformers) (4.6.1)\n",
            "Requirement already satisfied: numpy>=1.17 in /usr/local/lib/python3.7/dist-packages (from transformers) (1.19.5)\n",
            "Collecting sacremoses\n",
            "  Downloading sacremoses-0.0.45-py3-none-any.whl (895 kB)\n",
            "\u001b[K     |████████████████████████████████| 895 kB 39.6 MB/s \n",
            "\u001b[?25hRequirement already satisfied: tqdm>=4.27 in /usr/local/lib/python3.7/dist-packages (from transformers) (4.41.1)\n",
            "Requirement already satisfied: pyyaml in /usr/local/lib/python3.7/dist-packages (from transformers) (3.13)\n",
            "Collecting huggingface-hub==0.0.12\n",
            "  Downloading huggingface_hub-0.0.12-py3-none-any.whl (37 kB)\n",
            "Requirement already satisfied: typing-extensions in /usr/local/lib/python3.7/dist-packages (from huggingface-hub==0.0.12->transformers) (3.7.4.3)\n",
            "Requirement already satisfied: pyparsing>=2.0.2 in /usr/local/lib/python3.7/dist-packages (from packaging->transformers) (2.4.7)\n",
            "Requirement already satisfied: zipp>=0.5 in /usr/local/lib/python3.7/dist-packages (from importlib-metadata->transformers) (3.5.0)\n",
            "Requirement already satisfied: chardet<4,>=3.0.2 in /usr/local/lib/python3.7/dist-packages (from requests->transformers) (3.0.4)\n",
            "Requirement already satisfied: idna<3,>=2.5 in /usr/local/lib/python3.7/dist-packages (from requests->transformers) (2.10)\n",
            "Requirement already satisfied: urllib3!=1.25.0,!=1.25.1,<1.26,>=1.21.1 in /usr/local/lib/python3.7/dist-packages (from requests->transformers) (1.24.3)\n",
            "Requirement already satisfied: certifi>=2017.4.17 in /usr/local/lib/python3.7/dist-packages (from requests->transformers) (2021.5.30)\n",
            "Requirement already satisfied: click in /usr/local/lib/python3.7/dist-packages (from sacremoses->transformers) (7.1.2)\n",
            "Requirement already satisfied: joblib in /usr/local/lib/python3.7/dist-packages (from sacremoses->transformers) (1.0.1)\n",
            "Requirement already satisfied: six in /usr/local/lib/python3.7/dist-packages (from sacremoses->transformers) (1.15.0)\n",
            "Installing collected packages: tokenizers, sacremoses, huggingface-hub, transformers\n",
            "Successfully installed huggingface-hub-0.0.12 sacremoses-0.0.45 tokenizers-0.10.3 transformers-4.8.2\n"
          ],
          "name": "stdout"
        }
      ]
    },
    {
      "cell_type": "code",
      "metadata": {
        "id": "l15FrJwCw26S"
      },
      "source": [
        "from transformers import pipeline\n",
        "from sklearn.metrics import accuracy_score\n",
        "from time import time\n",
        "from warnings import filterwarnings\n",
        "filterwarnings(\"once\", category=DeprecationWarning) # Display just the first matching deprecation warnings (multi_class changing to multi_label)."
      ],
      "execution_count": null,
      "outputs": []
    },
    {
      "cell_type": "markdown",
      "metadata": {
        "id": "igeM0dkDGD1n"
      },
      "source": [
        "#Load Data"
      ]
    },
    {
      "cell_type": "code",
      "metadata": {
        "id": "i3wuLhZTGrQ9"
      },
      "source": [
        "import pandas as pd\n",
        "filepath = 'new_data.csv' #missing values have been filled with 'Nothing' while extracting this data from the main patient dataset \n",
        "#df = pd.read_csv(filepath)\n",
        "df = pd.read_csv(filepath, nrows=1000)  #, usecols=['label', 'feedback'])\n",
        "#df = df.iloc[:500, :]; df.reset_index(inplace=True, drop=True)  #take a small sample to test diffrent nli models for zeroshot"
      ],
      "execution_count": null,
      "outputs": []
    },
    {
      "cell_type": "code",
      "metadata": {
        "colab": {
          "base_uri": "https://localhost:8080/",
          "height": 221
        },
        "id": "RrFF6dtml3LW",
        "outputId": "1c8d97b0-3213-4691-cada-246ce992de44"
      },
      "source": [
        "print(df.shape)\n",
        "df.head()"
      ],
      "execution_count": null,
      "outputs": [
        {
          "output_type": "stream",
          "text": [
            "(1000, 2)\n"
          ],
          "name": "stdout"
        },
        {
          "output_type": "execute_result",
          "data": {
            "text/html": [
              "<div>\n",
              "<style scoped>\n",
              "    .dataframe tbody tr th:only-of-type {\n",
              "        vertical-align: middle;\n",
              "    }\n",
              "\n",
              "    .dataframe tbody tr th {\n",
              "        vertical-align: top;\n",
              "    }\n",
              "\n",
              "    .dataframe thead th {\n",
              "        text-align: right;\n",
              "    }\n",
              "</style>\n",
              "<table border=\"1\" class=\"dataframe\">\n",
              "  <thead>\n",
              "    <tr style=\"text-align: right;\">\n",
              "      <th></th>\n",
              "      <th>label</th>\n",
              "      <th>feedback</th>\n",
              "    </tr>\n",
              "  </thead>\n",
              "  <tbody>\n",
              "    <tr>\n",
              "      <th>0</th>\n",
              "      <td>Couldn't be improved</td>\n",
              "      <td>Nothing.</td>\n",
              "    </tr>\n",
              "    <tr>\n",
              "      <th>1</th>\n",
              "      <td>Environment/ facilities</td>\n",
              "      <td>Temperature in theatre a little low.</td>\n",
              "    </tr>\n",
              "    <tr>\n",
              "      <th>2</th>\n",
              "      <td>Access</td>\n",
              "      <td>Same service available at Bingham Health Centre.</td>\n",
              "    </tr>\n",
              "    <tr>\n",
              "      <th>3</th>\n",
              "      <td>Communication</td>\n",
              "      <td>Appointment details given over phone - no phys...</td>\n",
              "    </tr>\n",
              "    <tr>\n",
              "      <th>4</th>\n",
              "      <td>Communication</td>\n",
              "      <td>On one occasion I was not made aware that my a...</td>\n",
              "    </tr>\n",
              "  </tbody>\n",
              "</table>\n",
              "</div>"
            ],
            "text/plain": [
              "                     label                                           feedback\n",
              "0     Couldn't be improved                                           Nothing.\n",
              "1  Environment/ facilities               Temperature in theatre a little low.\n",
              "2                   Access   Same service available at Bingham Health Centre.\n",
              "3            Communication  Appointment details given over phone - no phys...\n",
              "4            Communication  On one occasion I was not made aware that my a..."
            ]
          },
          "metadata": {
            "tags": []
          },
          "execution_count": 26
        }
      ]
    },
    {
      "cell_type": "markdown",
      "metadata": {
        "id": "6TJ_B6O3GLRM"
      },
      "source": [
        "# Prepare data for prediction"
      ]
    },
    {
      "cell_type": "code",
      "metadata": {
        "colab": {
          "base_uri": "https://localhost:8080/"
        },
        "id": "aqLyb84fmHzz",
        "outputId": "e3aabb71-327c-4984-8fb5-89811795115e"
      },
      "source": [
        "sequence = df.feedback.values\n",
        "candidate_labels = df.label.unique()\n",
        "sequence\n",
        "print(len(candidate_labels))\n",
        "candidate_labels\n"
      ],
      "execution_count": null,
      "outputs": [
        {
          "output_type": "stream",
          "text": [
            "9\n"
          ],
          "name": "stdout"
        },
        {
          "output_type": "execute_result",
          "data": {
            "text/plain": [
              "array([\"Couldn't be improved\", 'Environment/ facilities', 'Access',\n",
              "       'Communication', 'Dignity', 'Staff', 'Care received',\n",
              "       'Transition/coordination', 'Miscellaneous'], dtype=object)"
            ]
          },
          "metadata": {
            "tags": []
          },
          "execution_count": 27
        }
      ]
    },
    {
      "cell_type": "markdown",
      "metadata": {
        "id": "EhUvNQmNMhed"
      },
      "source": [
        "#Prediction"
      ]
    },
    {
      "cell_type": "code",
      "metadata": {
        "id": "HisumoUbEXTS",
        "colab": {
          "base_uri": "https://localhost:8080/",
          "height": 311,
          "referenced_widgets": [
            "8bfe7ea0e5aa4266a260adebc1fbc348",
            "83128f66cfd1482f9b0f0f9729ec0240",
            "2c2c7115bf8c4d5686e5c14d1d42ab0e",
            "7e816595ae1540fc9be01bb57109e951",
            "d5fc6c1a4b784faa9de8f3122e95b738",
            "08d260739a734be0a9e681df6e1d41a0",
            "c6a3496b5a4248369e7b8b41a8d1fbed",
            "1730b8e14e4740b29ba587c38194e0be",
            "9060528f2e89422f82e5d9be2f97aba1",
            "3d82d924542541c9b5b1dc1be01a9984",
            "eb484b63985346ccad67b26c1b8fb26e",
            "b00adf63f4c34682ac460d727f5a1d65",
            "b1d81a2441f948beb30501d157d48e2b",
            "2af7a18626d5472facbfc0ce0259a5cb",
            "9ec0e97d40b646bf83dbce5630cff0f4",
            "8a2de3b1c3204357930331884947b663",
            "0f3e0ad97eec4ebf9a143854b6ddb660",
            "f407516bb077415bae3455c6f0e308ab",
            "feac16222b3446c39b0d0ae69c929910",
            "e02cea0c14294830a0c16abb054c430c",
            "d11f02ec43a54196992fe337d6984760",
            "f2a3988576e74ee9870969ddac3acd84",
            "bd31798afc4c4d51a0127a32447293e6",
            "6a1ceaa8a3ab47c387ec4a0bb9273638",
            "d554bd4b77c94c0d911a9216bc9f5407",
            "81a1693d48fb475aa10f426a53d90137",
            "43d844eb9eb04ca0bceffd07365c315a",
            "e4b9cc2c00cb4a909c0b7a5a7bac4788",
            "595857c9ede04c74a452193f49e31e95",
            "badbdc60a60e4ad6a346eb6fa5e1a162",
            "266b9469aeda4dc0a5028104a3a30e22",
            "97fb689f28684003a662598cdbe6ea46",
            "aa1506bdac3c4297b03f100657d43296",
            "b68744f846624a7eab8808d40760b1e3",
            "c5fb224726ea4c7e8d522052d4d64a29",
            "b98003dddf47469e903990d9f2abd01c",
            "8015079765d74eebaf74a2b859704818",
            "7898926fd0ea498aa23acf8458067bfb",
            "ba196e78a5514af0999c371df4bdfd82",
            "c94a4fece55542848b9ecd0c9d5862bb",
            "776d1d54f59a4f50b1ea82d0c9ac804c",
            "a6ba8306a1e043a4b5ee97f270ee1805",
            "c8a9f1fdf9754291a6278e2141ffdeed",
            "63844aa8520a47128f5cfff9c407d0a7",
            "e0d0dc53956c488e869fa5f20e92f76d",
            "42958ed6e0c845c886d73ba3103a07a0",
            "29f75a9410d040fd82922b1a59dab78d",
            "c678a7128619491f8bd4722d4ea93b51"
          ]
        },
        "outputId": "2d75485b-9dde-4afd-d2d8-6d066af5a5ba"
      },
      "source": [
        "#model=\"roberta-large-mnli\"\n",
        "models = ['valhalla/distilbart-mnli-12-1', 'valhalla/distilbart-mnli-12-9']\n",
        "# #models = ['bart-large-mnli', 'roberta-large-mnli', 'typeform/distilbert-base-uncased-mnli', \n",
        "#           'facebook/bart-large-mnli', 'vicgalle/xlm-roberta-large-xnli-anli'\n",
        "#           'valhalla/distilbart-mnli-12-1', 'joeddav/xlm-roberta-large-xnli',\n",
        "#           'typeform/mobilebert-uncased-mnli', 'valhalla/distilbart-mnli-12-6', \n",
        "#           'valhalla/distilbart-mnli-12-9']\n",
        "#model=\"distilbert-base-cased\""
      ],
      "execution_count": null,
      "outputs": [
        {
          "output_type": "display_data",
          "data": {
            "application/vnd.jupyter.widget-view+json": {
              "model_id": "8bfe7ea0e5aa4266a260adebc1fbc348",
              "version_minor": 0,
              "version_major": 2
            },
            "text/plain": [
              "HBox(children=(FloatProgress(value=0.0, description='Downloading', max=1389.0, style=ProgressStyle(description…"
            ]
          },
          "metadata": {
            "tags": []
          }
        },
        {
          "output_type": "stream",
          "text": [
            "\n"
          ],
          "name": "stdout"
        },
        {
          "output_type": "display_data",
          "data": {
            "application/vnd.jupyter.widget-view+json": {
              "model_id": "9060528f2e89422f82e5d9be2f97aba1",
              "version_minor": 0,
              "version_major": 2
            },
            "text/plain": [
              "HBox(children=(FloatProgress(value=0.0, description='Downloading', max=890410947.0, style=ProgressStyle(descri…"
            ]
          },
          "metadata": {
            "tags": []
          }
        },
        {
          "output_type": "stream",
          "text": [
            "\n"
          ],
          "name": "stdout"
        },
        {
          "output_type": "display_data",
          "data": {
            "application/vnd.jupyter.widget-view+json": {
              "model_id": "0f3e0ad97eec4ebf9a143854b6ddb660",
              "version_minor": 0,
              "version_major": 2
            },
            "text/plain": [
              "HBox(children=(FloatProgress(value=0.0, description='Downloading', max=26.0, style=ProgressStyle(description_w…"
            ]
          },
          "metadata": {
            "tags": []
          }
        },
        {
          "output_type": "stream",
          "text": [
            "\n"
          ],
          "name": "stdout"
        },
        {
          "output_type": "display_data",
          "data": {
            "application/vnd.jupyter.widget-view+json": {
              "model_id": "d554bd4b77c94c0d911a9216bc9f5407",
              "version_minor": 0,
              "version_major": 2
            },
            "text/plain": [
              "HBox(children=(FloatProgress(value=0.0, description='Downloading', max=898822.0, style=ProgressStyle(descripti…"
            ]
          },
          "metadata": {
            "tags": []
          }
        },
        {
          "output_type": "stream",
          "text": [
            "\n"
          ],
          "name": "stdout"
        },
        {
          "output_type": "display_data",
          "data": {
            "application/vnd.jupyter.widget-view+json": {
              "model_id": "aa1506bdac3c4297b03f100657d43296",
              "version_minor": 0,
              "version_major": 2
            },
            "text/plain": [
              "HBox(children=(FloatProgress(value=0.0, description='Downloading', max=456318.0, style=ProgressStyle(descripti…"
            ]
          },
          "metadata": {
            "tags": []
          }
        },
        {
          "output_type": "stream",
          "text": [
            "\n"
          ],
          "name": "stdout"
        },
        {
          "output_type": "display_data",
          "data": {
            "application/vnd.jupyter.widget-view+json": {
              "model_id": "776d1d54f59a4f50b1ea82d0c9ac804c",
              "version_minor": 0,
              "version_major": 2
            },
            "text/plain": [
              "HBox(children=(FloatProgress(value=0.0, description='Downloading', max=772.0, style=ProgressStyle(description_…"
            ]
          },
          "metadata": {
            "tags": []
          }
        },
        {
          "output_type": "stream",
          "text": [
            "\n"
          ],
          "name": "stdout"
        }
      ]
    },
    {
      "cell_type": "markdown",
      "metadata": {
        "id": "Gm3BB-83IHnU"
      },
      "source": [
        "Any NLI model can be used, but the id of the 'entailment' label must be included in the model config's \n",
        "~transformers.PretrainedConfig.label2id."
      ]
    },
    {
      "cell_type": "code",
      "metadata": {
        "id": "Vhxf0d4gmU9A",
        "colab": {
          "base_uri": "https://localhost:8080/"
        },
        "outputId": "55c00634-afd5-47ff-bb9d-3cbe4bf2db75"
      },
      "source": [
        "%%time\n",
        "Model_performance_df = pd.DataFrame(columns = ['model_name', 'score', 'model_initialising_time',\n",
        "                                               'model_prediction_time'])\n",
        "for j in models:\n",
        "  model = j\n",
        "  start = time()\n",
        "  classifier = pipeline(\"zero-shot-classification\", model=model, device=0) # utilize GPU)\n",
        "  end = time()\n",
        "  model_initialising_time = end – start\n",
        "\n",
        "\n",
        "  #initialise attribute to hold the predicted class and its score\n",
        "  feedback_predict_score = []; feedback_predict = []\n",
        "\n",
        "  for i in range(len(df)):\n",
        "    start = time()\n",
        "    result = classifier(sequence[i], candidate_labels) # to do multiclass classification set <multi_class=True>\n",
        "    feedback_predict.append(result['labels'][0])\n",
        "    feedback_predict_score.append(float('%.2f' %result['scores'][0]))\n",
        "    end = time()\n",
        "    model_prediction_time = end – start\n",
        "\n",
        "  #Model evaluation\n",
        "  y_true = df.label.values\n",
        "  y_pred = feedback_predict\n",
        "  score = accuracy_score(y_true, y_pred)\n",
        "  Model_performance_df['Model_name'] = model\n",
        "  Model_performance_df['score'] = float(f'{score:.2f}')\n",
        "  Model_performance_df['model_initialising_time'] = model_initialising_time\n",
        "  Model_performance_df['model_prediction_time'] = model_prediction_time\n",
        "\n",
        "Model_performance_df.to_csv('Models_performance.txt')"
      ],
      "execution_count": null,
      "outputs": [
        {
          "output_type": "stream",
          "text": [
            "CPU times: user 44.5 s, sys: 285 ms, total: 44.8 s\n",
            "Wall time: 44.4 s\n"
          ],
          "name": "stdout"
        }
      ]
    },
    {
      "cell_type": "markdown",
      "metadata": {
        "id": "spvAAKH9CA_C"
      },
      "source": [
        "#Model evaluation"
      ]
    },
    {
      "cell_type": "code",
      "metadata": {
        "id": "KRjvSZgDmqqv",
        "colab": {
          "base_uri": "https://localhost:8080/"
        },
        "outputId": "ad93ca8d-c3b0-44ed-caa2-867c737f8311"
      },
      "source": [
        "#Model evaluation\n",
        "from sklearn.metrics import accuracy_score\n",
        "\n",
        "y_true = df.label.values\n",
        "y_pred = feedback_predict\n",
        "score = accuracy_score(y_true, y_pred)\n",
        "score\n"
      ],
      "execution_count": null,
      "outputs": [
        {
          "output_type": "execute_result",
          "data": {
            "text/plain": [
              "0.424"
            ]
          },
          "metadata": {
            "tags": []
          },
          "execution_count": 32
        }
      ]
    },
    {
      "cell_type": "markdown",
      "metadata": {
        "id": "LuEfcxJuBrCB"
      },
      "source": [
        "#Track the performance of the various models"
      ]
    },
    {
      "cell_type": "code",
      "metadata": {
        "id": "ld6jNDDs8pYM"
      },
      "source": [
        "Model_performance = f'{model}: {score:.2f}'\n",
        "with open('Models_performance.txt', 'a') as file:\n",
        "  file.write(Model_performance+'\\n')"
      ],
      "execution_count": null,
      "outputs": []
    },
    {
      "cell_type": "code",
      "metadata": {
        "id": "zZ5rL9AjkEme"
      },
      "source": [
        "#investigating the importance of the probability score\n",
        "df_above60 = df1[df1['feedback_predict_score' ]>0.70]\n",
        "df_below60 = df1[df1['feedback_predict_score' ]<0.70]\n",
        "\n",
        "y_true_above60 = df_above60.label.values\n",
        "y_pred_above60 = df_above60.feedback_predict.values\n",
        "\n",
        "y_true_below60 = df_below60.label.values\n",
        "y_pred_below60 = df_below60.feedback_predict.values\n",
        "print (f'Entries with below 60% probability score: No = {len(df_below60)}, Accuracy = {accuracy_score(y_true_below60, y_pred_below60)}')\n",
        "print (f'Entries with over 60% probability score: No = {len(df_above60)}, Accuracy = {accuracy_score(y_true_above60, y_pred_above60)}')"
      ],
      "execution_count": null,
      "outputs": []
    },
    {
      "cell_type": "markdown",
      "metadata": {
        "id": "hgQexpKfPf6K"
      },
      "source": [
        "# Possible useful codes"
      ]
    },
    {
      "cell_type": "code",
      "metadata": {
        "id": "0y6fE5Gsnsdd"
      },
      "source": [
        "df['feedback_predict'] = feedback_predict\n",
        "df['feedback_predict_score'] = feedback_predict_score\n",
        "df1 = df.loc[:, ['feedback','label','feedback_predict', 'feedback_predict_score']]\n",
        "df1.head()"
      ],
      "execution_count": null,
      "outputs": []
    },
    {
      "cell_type": "code",
      "metadata": {
        "id": "o4Iiu8rKwaFQ"
      },
      "source": [
        "# #check for missing values\n",
        "# print(df.isna().sum())\n",
        "\n",
        "# #fill missing value has this causes runtime error while fiting the model \n",
        "# df['feedback'].fillna('Nothing', inplace = True)\n",
        "# df.isna().sum()"
      ],
      "execution_count": null,
      "outputs": []
    },
    {
      "cell_type": "code",
      "metadata": {
        "id": "9L0hY_2LAhj3",
        "colab": {
          "base_uri": "https://localhost:8080/"
        },
        "outputId": "87337ec8-d66b-4336-83bc-8a250388187b"
      },
      "source": [
        "#testing \n",
        "#trainer.train()\n",
        "hypothesis_template = \"This text is about {}.\"\n",
        "\n",
        "b = 212\n",
        "a = classifier(sequence[b], candidate_labels, hypothesis_template=hypothesis_template) # to do multiclass classification set <multi_class=True>\n",
        "print (a['labels'], '\\n', a['scores'], '\\n', sequence[b], '\\n', df.label[b])"
      ],
      "execution_count": null,
      "outputs": [
        {
          "output_type": "stream",
          "text": [
            "['Care received', \"Couldn't be improved\", 'Staff', 'Miscellaneous', 'Access', 'Communication', 'Environment/ facilities', 'Transition/coordination', 'Dignity'] \n",
            " [0.5051387548446655, 0.17052897810935974, 0.08590280264616013, 0.06936632096767426, 0.0408400297164917, 0.04034673422574997, 0.033513203263282776, 0.029891660436987877, 0.02447149157524109] \n",
            " very happy with the service \n",
            " Couldn't be improved\n"
          ],
          "name": "stdout"
        }
      ]
    }
  ]
}