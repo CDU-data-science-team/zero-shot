{
  "nbformat": 4,
  "nbformat_minor": 0,
  "metadata": {
    "colab": {
      "name": "Patient Feedback with Hugging Transformer.ipynb",
      "provenance": [],
      "collapsed_sections": [],
      "authorship_tag": "ABX9TyMN1XkLpHCSB6YxXO3tKWit",
      "include_colab_link": true
    },
    "kernelspec": {
      "name": "python3",
      "display_name": "Python 3"
    },
    "language_info": {
      "name": "python"
    },
    "accelerator": "GPU"
  },
  "cells": [
    {
      "cell_type": "markdown",
      "metadata": {
        "id": "view-in-github",
        "colab_type": "text"
      },
      "source": [
        "<a href=\"https://colab.research.google.com/github/CDU-data-science-team/zero-shot/blob/feature-Huggingface_transformer/Patient_Feedback_with_Hugging_Transformer.ipynb\" target=\"_parent\"><img src=\"https://colab.research.google.com/assets/colab-badge.svg\" alt=\"Open In Colab\"/></a>"
      ]
    },
    {
      "cell_type": "code",
      "metadata": {
        "id": "hyYQ_G6QDyYA",
        "colab": {
          "base_uri": "https://localhost:8080/"
        },
        "outputId": "b80620a5-775f-43c6-a70d-b689754e2e02"
      },
      "source": [
        "!pip install transformers"
      ],
      "execution_count": 2,
      "outputs": [
        {
          "output_type": "stream",
          "text": [
            "Collecting transformers\n",
            "  Downloading transformers-4.9.1-py3-none-any.whl (2.6 MB)\n",
            "\u001b[K     |████████████████████████████████| 2.6 MB 5.3 MB/s \n",
            "\u001b[?25hCollecting tokenizers<0.11,>=0.10.1\n",
            "  Downloading tokenizers-0.10.3-cp37-cp37m-manylinux_2_5_x86_64.manylinux1_x86_64.manylinux_2_12_x86_64.manylinux2010_x86_64.whl (3.3 MB)\n",
            "\u001b[K     |████████████████████████████████| 3.3 MB 34.7 MB/s \n",
            "\u001b[?25hRequirement already satisfied: requests in /usr/local/lib/python3.7/dist-packages (from transformers) (2.23.0)\n",
            "Requirement already satisfied: tqdm>=4.27 in /usr/local/lib/python3.7/dist-packages (from transformers) (4.41.1)\n",
            "Collecting huggingface-hub==0.0.12\n",
            "  Downloading huggingface_hub-0.0.12-py3-none-any.whl (37 kB)\n",
            "Collecting sacremoses\n",
            "  Downloading sacremoses-0.0.45-py3-none-any.whl (895 kB)\n",
            "\u001b[K     |████████████████████████████████| 895 kB 64.4 MB/s \n",
            "\u001b[?25hRequirement already satisfied: importlib-metadata in /usr/local/lib/python3.7/dist-packages (from transformers) (4.6.1)\n",
            "Requirement already satisfied: numpy>=1.17 in /usr/local/lib/python3.7/dist-packages (from transformers) (1.19.5)\n",
            "Collecting pyyaml>=5.1\n",
            "  Downloading PyYAML-5.4.1-cp37-cp37m-manylinux1_x86_64.whl (636 kB)\n",
            "\u001b[K     |████████████████████████████████| 636 kB 61.2 MB/s \n",
            "\u001b[?25hRequirement already satisfied: regex!=2019.12.17 in /usr/local/lib/python3.7/dist-packages (from transformers) (2019.12.20)\n",
            "Requirement already satisfied: filelock in /usr/local/lib/python3.7/dist-packages (from transformers) (3.0.12)\n",
            "Requirement already satisfied: packaging in /usr/local/lib/python3.7/dist-packages (from transformers) (21.0)\n",
            "Requirement already satisfied: typing-extensions in /usr/local/lib/python3.7/dist-packages (from huggingface-hub==0.0.12->transformers) (3.7.4.3)\n",
            "Requirement already satisfied: pyparsing>=2.0.2 in /usr/local/lib/python3.7/dist-packages (from packaging->transformers) (2.4.7)\n",
            "Requirement already satisfied: zipp>=0.5 in /usr/local/lib/python3.7/dist-packages (from importlib-metadata->transformers) (3.5.0)\n",
            "Requirement already satisfied: idna<3,>=2.5 in /usr/local/lib/python3.7/dist-packages (from requests->transformers) (2.10)\n",
            "Requirement already satisfied: certifi>=2017.4.17 in /usr/local/lib/python3.7/dist-packages (from requests->transformers) (2021.5.30)\n",
            "Requirement already satisfied: urllib3!=1.25.0,!=1.25.1,<1.26,>=1.21.1 in /usr/local/lib/python3.7/dist-packages (from requests->transformers) (1.24.3)\n",
            "Requirement already satisfied: chardet<4,>=3.0.2 in /usr/local/lib/python3.7/dist-packages (from requests->transformers) (3.0.4)\n",
            "Requirement already satisfied: click in /usr/local/lib/python3.7/dist-packages (from sacremoses->transformers) (7.1.2)\n",
            "Requirement already satisfied: joblib in /usr/local/lib/python3.7/dist-packages (from sacremoses->transformers) (1.0.1)\n",
            "Requirement already satisfied: six in /usr/local/lib/python3.7/dist-packages (from sacremoses->transformers) (1.15.0)\n",
            "Installing collected packages: tokenizers, sacremoses, pyyaml, huggingface-hub, transformers\n",
            "  Attempting uninstall: pyyaml\n",
            "    Found existing installation: PyYAML 3.13\n",
            "    Uninstalling PyYAML-3.13:\n",
            "      Successfully uninstalled PyYAML-3.13\n",
            "Successfully installed huggingface-hub-0.0.12 pyyaml-5.4.1 sacremoses-0.0.45 tokenizers-0.10.3 transformers-4.9.1\n"
          ],
          "name": "stdout"
        }
      ]
    },
    {
      "cell_type": "markdown",
      "metadata": {
        "id": "kuGnfw_ykREZ"
      },
      "source": [
        "#Load important libraries"
      ]
    },
    {
      "cell_type": "code",
      "metadata": {
        "id": "l15FrJwCw26S"
      },
      "source": [
        "import pandas as pd\n",
        "import numpy as np\n",
        "import matplotlib.pyplot as plt\n",
        "%matplotlib inline\n",
        "\n",
        "from transformers import pipeline\n",
        "from sklearn.metrics import accuracy_score\n",
        "\n",
        "from time import time\n",
        "import datetime\n",
        "from warnings import filterwarnings\n",
        "filterwarnings(\"once\", category=DeprecationWarning) # Display just the first matching deprecation warnings (multi_class changing to multi_label)."
      ],
      "execution_count": 12,
      "outputs": []
    },
    {
      "cell_type": "markdown",
      "metadata": {
        "id": "igeM0dkDGD1n"
      },
      "source": [
        "#Load Data"
      ]
    },
    {
      "cell_type": "code",
      "metadata": {
        "id": "i3wuLhZTGrQ9"
      },
      "source": [
        "filepath = 'new_data.csv' \n",
        "df = pd.read_csv(filepath, usecols=['label', 'feedback'])\n",
        "#df = pd.read_csv(filepath, usecols=['label', 'feedback'], nrows=1000) #take a small sample to test diffrent nli models for zeroshot"
      ],
      "execution_count": 5,
      "outputs": []
    },
    {
      "cell_type": "code",
      "metadata": {
        "id": "RrFF6dtml3LW",
        "colab": {
          "base_uri": "https://localhost:8080/",
          "height": 220
        },
        "outputId": "4b027f59-8748-4bf9-abd4-491ec0d4254f"
      },
      "source": [
        "# Fill missing values with 'Nothing'\n",
        "df.fillna('Nothing', inplace=True)\n",
        "print(df.shape)\n",
        "df.head()"
      ],
      "execution_count": 6,
      "outputs": [
        {
          "output_type": "stream",
          "text": [
            "(9291, 2)\n"
          ],
          "name": "stdout"
        },
        {
          "output_type": "execute_result",
          "data": {
            "text/html": [
              "<div>\n",
              "<style scoped>\n",
              "    .dataframe tbody tr th:only-of-type {\n",
              "        vertical-align: middle;\n",
              "    }\n",
              "\n",
              "    .dataframe tbody tr th {\n",
              "        vertical-align: top;\n",
              "    }\n",
              "\n",
              "    .dataframe thead th {\n",
              "        text-align: right;\n",
              "    }\n",
              "</style>\n",
              "<table border=\"1\" class=\"dataframe\">\n",
              "  <thead>\n",
              "    <tr style=\"text-align: right;\">\n",
              "      <th></th>\n",
              "      <th>label</th>\n",
              "      <th>feedback</th>\n",
              "    </tr>\n",
              "  </thead>\n",
              "  <tbody>\n",
              "    <tr>\n",
              "      <th>0</th>\n",
              "      <td>Couldn't be improved</td>\n",
              "      <td>Nothing.</td>\n",
              "    </tr>\n",
              "    <tr>\n",
              "      <th>1</th>\n",
              "      <td>Environment/ facilities</td>\n",
              "      <td>Temperature in theatre a little low.</td>\n",
              "    </tr>\n",
              "    <tr>\n",
              "      <th>2</th>\n",
              "      <td>Access</td>\n",
              "      <td>Same service available at Bingham Health Centre.</td>\n",
              "    </tr>\n",
              "    <tr>\n",
              "      <th>3</th>\n",
              "      <td>Communication</td>\n",
              "      <td>Appointment details given over phone - no phys...</td>\n",
              "    </tr>\n",
              "    <tr>\n",
              "      <th>4</th>\n",
              "      <td>Communication</td>\n",
              "      <td>On one occasion I was not made aware that my a...</td>\n",
              "    </tr>\n",
              "  </tbody>\n",
              "</table>\n",
              "</div>"
            ],
            "text/plain": [
              "                     label                                           feedback\n",
              "0     Couldn't be improved                                           Nothing.\n",
              "1  Environment/ facilities               Temperature in theatre a little low.\n",
              "2                   Access   Same service available at Bingham Health Centre.\n",
              "3            Communication  Appointment details given over phone - no phys...\n",
              "4            Communication  On one occasion I was not made aware that my a..."
            ]
          },
          "metadata": {
            "tags": []
          },
          "execution_count": 6
        }
      ]
    },
    {
      "cell_type": "markdown",
      "metadata": {
        "id": "6TJ_B6O3GLRM"
      },
      "source": [
        "# Prepare data for prediction"
      ]
    },
    {
      "cell_type": "code",
      "metadata": {
        "id": "aqLyb84fmHzz",
        "colab": {
          "base_uri": "https://localhost:8080/"
        },
        "outputId": "bb0eaacf-f096-444c-a4af-5e201fa43d23"
      },
      "source": [
        "sequence = df.feedback.values\n",
        "candidate_labels = df.label.unique()\n",
        "print(len(candidate_labels))\n",
        "candidate_labels\n"
      ],
      "execution_count": 7,
      "outputs": [
        {
          "output_type": "stream",
          "text": [
            "9\n"
          ],
          "name": "stdout"
        },
        {
          "output_type": "execute_result",
          "data": {
            "text/plain": [
              "array([\"Couldn't be improved\", 'Environment/ facilities', 'Access',\n",
              "       'Communication', 'Dignity', 'Staff', 'Care received',\n",
              "       'Transition/coordination', 'Miscellaneous'], dtype=object)"
            ]
          },
          "metadata": {
            "tags": []
          },
          "execution_count": 7
        }
      ]
    },
    {
      "cell_type": "markdown",
      "metadata": {
        "id": "EhUvNQmNMhed"
      },
      "source": [
        "#Prediction"
      ]
    },
    {
      "cell_type": "code",
      "metadata": {
        "id": "HisumoUbEXTS"
      },
      "source": [
        "#List of pretrained Zeroshot models to test\n",
        "#uncheck the model list to run for all models\n",
        "# models = ['roberta-large-mnli', 'facebook/bart-large-mnli', 'typeform/distilbert-base-uncased-mnli',\n",
        "#           'cross-encoder/nli-MiniLM2-L6-H768', 'cross-encoder/nli-distilroberta-base',\n",
        "#           'cross-encoder/nli-roberta-base', 'cross-encoder/nli-deberta-base', \n",
        "#           'valhalla/distilbart-mnli-12-1', 'valhalla/distilbart-mnli-12-9', 'valhalla/distilbart-mnli-12-6',\n",
        "#           'Recognai/bert-base-spanish-wwm-cased-xnli', 'typeform/roberta-large-mnli']\n",
        "models = ['cross-encoder/nli-deberta-base']   #for testing the pipeline"
      ],
      "execution_count": 16,
      "outputs": []
    },
    {
      "cell_type": "code",
      "metadata": {
        "id": "7UfB4d1VoCH6"
      },
      "source": [
        "# Function to convert seconds to hour, minute and second\n",
        "# Parameters: (number of seconds)\n",
        "def time_convert(seconds):\n",
        "    min, sec = divmod(seconds, 60)\n",
        "    hour, min = divmod(min, 60)\n",
        "    return \"%d:%02d:%02d\" % (hour, min, sec)"
      ],
      "execution_count": 8,
      "outputs": []
    },
    {
      "cell_type": "code",
      "metadata": {
        "id": "Vhxf0d4gmU9A"
      },
      "source": [
        "%%time\n",
        "model_name = []\n",
        "model_score = []\n",
        "model_initialising_time = []\n",
        "model_prediction_time = []\n",
        "model_average_feedback_score = []\n",
        "\n",
        "# Loop through the list of models to try\n",
        "for model in models:\n",
        "  feedback_predict_score = []; feedback_predict = []  #list to hold the predicted class and its score\n",
        "\n",
        "  # time the model initialization period\n",
        "  start = time()\n",
        "  # instantiate a zeroshot classifier object\n",
        "  classifier = pipeline(\"zero-shot-classification\", model=model)#, device=0) # utilize GPU)\n",
        "  end = time()\n",
        "  initialising_time =  round(end-start) #tracks model initialisation time\n",
        "    \n",
        "  # Actual prediction\n",
        "  # track model prediction time\n",
        "  # to do multiclass classification set <multi_class=True>\n",
        "  start2 = time()\n",
        "  for i in range(len(df)):\n",
        "    result = classifier(sequence[i], candidate_labels) \n",
        "    feedback_predict.append(result['labels'][0])\n",
        "    feedback_predict_score.append(result['scores'][0]) \n",
        "  end2 = time()\n",
        "  prediction_time = round(end2-start2) #tracks model prediction time   \n",
        "\n",
        "  # Model evaluation\n",
        "  y_true = df.label.values\n",
        "  y_pred = feedback_predict\n",
        "  score = accuracy_score(y_true, y_pred)\n",
        "  \n",
        "  # Update model performance tracking lists\n",
        "  model_name.append(model)\n",
        "  model_score.append(round(score*100, 2))    \n",
        "  model_initialising_time.append(time_convert(initialising_time))\n",
        "  model_prediction_time.append(time_convert(prediction_time))\n",
        "  model_average_feedback_score.append(round(np.mean(feedback_predict_score)*100, 2)) "
      ],
      "execution_count": null,
      "outputs": []
    },
    {
      "cell_type": "code",
      "metadata": {
        "id": "LklcUNbyOwNJ"
      },
      "source": [
        "#update model performance table for model comparism\n",
        "Model_performance_df = pd.DataFrame()\n",
        "\n",
        "Model_performance_df['model_name'] = model_name\n",
        "Model_performance_df['%_Accuracy_score'] = model_score\n",
        "Model_performance_df['initialising_time'] = model_initialising_time\n",
        "Model_performance_df['prediction_time'] = model_prediction_time\n",
        "Model_performance_df['%average_feedback_score'] = model_average_feedback_score\n",
        "\n",
        "# Sort the table by vlaues in model_score in ascending order\n",
        "Model_performance_df.sort_values('model_score', inplace=True, ascending=False)\n"
      ],
      "execution_count": null,
      "outputs": []
    },
    {
      "cell_type": "markdown",
      "metadata": {
        "id": "61MOKnTol5ot"
      },
      "source": [
        "# Visualize the data and Export it as csv"
      ]
    },
    {
      "cell_type": "code",
      "metadata": {
        "id": "Vhrn6Og2l42j"
      },
      "source": [
        "#set values in model name as index\n",
        "model_df = Model_performance_df.set_index(Model_performance_df['model_name'])\n",
        "\n",
        "model_df.plot.bar(rot = 45, figsize=(15,10), fontsize=20)\n",
        "\n",
        "# Export the model performance table\n",
        "Model_performance_df.to_csv('Models_performance.txt', index = False) "
      ],
      "execution_count": null,
      "outputs": []
    },
    {
      "cell_type": "code",
      "metadata": {
        "id": "MgqEBoJEWCgQ"
      },
      "source": [
        ""
      ],
      "execution_count": null,
      "outputs": []
    }
  ]
}