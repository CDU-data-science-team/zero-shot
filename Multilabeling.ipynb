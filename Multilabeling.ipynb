{
  "nbformat": 4,
  "nbformat_minor": 0,
  "metadata": {
    "colab": {
      "name": "Multilabeling.ipynb",
      "provenance": [],
      "collapsed_sections": [],
      "authorship_tag": "ABX9TyN/o1m/FF5lN1xMz2safNkg",
      "include_colab_link": true
    },
    "kernelspec": {
      "name": "python3",
      "display_name": "Python 3"
    },
    "language_info": {
      "name": "python"
    }
  },
  "cells": [
    {
      "cell_type": "markdown",
      "metadata": {
        "id": "view-in-github",
        "colab_type": "text"
      },
      "source": [
        "<a href=\"https://colab.research.google.com/github/CDU-data-science-team/zero-shot/blob/development/Multilabeling.ipynb\" target=\"_parent\"><img src=\"https://colab.research.google.com/assets/colab-badge.svg\" alt=\"Open In Colab\"/></a>"
      ]
    },
    {
      "cell_type": "markdown",
      "metadata": {
        "id": "FXn0KYK2sDiv"
      },
      "source": [
        "This is a multilabel classification task that output the degree of confidence `(probability)` a trained model has about a row of feature belonging to a particular class its trained on."
      ]
    },
    {
      "cell_type": "code",
      "metadata": {
        "colab": {
          "base_uri": "https://localhost:8080/",
          "height": 765
        },
        "id": "F_F5pSMxjN84",
        "outputId": "53e32683-42f7-4bfa-a00d-ec7d608adaf2"
      },
      "source": [
        "# ==================================================== Exploratory Data Analysis ====================================================\n",
        "import pandas as pd \n",
        "import numpy as np\n",
        "import matplotlib.pyplot as plt\n",
        "import seaborn as sns\n",
        "\n",
        "#Load data\n",
        "url = 'https://raw.githubusercontent.com/CDU-data-science-team/pxtextmining/main/datasets/text_data.csv'\n",
        "df = pd.read_csv(url, usecols=['feedback', 'label'],  encoding='utf-8')#, nrows=100)\n",
        "df.dropna(inplace=True)\n",
        "\n",
        "# # preprocess the data and split to train, test\n",
        "no = len(df)\n",
        "df['text_lenght'] = [len(x.split()) for x in df.feedback] \n",
        "texts = df[['feedback', 'text_lenght']][:no]\n",
        "\n",
        "fig, ax = plt.subplots(1,2, figsize=(15,5))\n",
        "df.hist(bins = np.arange(0,max(df.text_lenght),10), ax=ax[0])\n",
        "ax[0].set(title='Distribution of No of words per feedback',)\n",
        "sns.countplot(df.label, ax=ax[1]).set(xlabel='no of label', title='No. of feedbacks per class',)\n",
        "plt.xticks(rotation = 45, ha='right')\n",
        "\n",
        "df.describe()"
      ],
      "execution_count": null,
      "outputs": [
        {
          "output_type": "stream",
          "name": "stderr",
          "text": [
            "/usr/local/lib/python3.7/dist-packages/seaborn/_decorators.py:43: FutureWarning: Pass the following variable as a keyword arg: x. From version 0.12, the only valid positional argument will be `data`, and passing other arguments without an explicit keyword will result in an error or misinterpretation.\n",
            "  FutureWarning\n"
          ]
        },
        {
          "output_type": "execute_result",
          "data": {
            "text/html": [
              "<div>\n",
              "<style scoped>\n",
              "    .dataframe tbody tr th:only-of-type {\n",
              "        vertical-align: middle;\n",
              "    }\n",
              "\n",
              "    .dataframe tbody tr th {\n",
              "        vertical-align: top;\n",
              "    }\n",
              "\n",
              "    .dataframe thead th {\n",
              "        text-align: right;\n",
              "    }\n",
              "</style>\n",
              "<table border=\"1\" class=\"dataframe\">\n",
              "  <thead>\n",
              "    <tr style=\"text-align: right;\">\n",
              "      <th></th>\n",
              "      <th>text_lenght</th>\n",
              "    </tr>\n",
              "  </thead>\n",
              "  <tbody>\n",
              "    <tr>\n",
              "      <th>count</th>\n",
              "      <td>10333.000000</td>\n",
              "    </tr>\n",
              "    <tr>\n",
              "      <th>mean</th>\n",
              "      <td>13.343076</td>\n",
              "    </tr>\n",
              "    <tr>\n",
              "      <th>std</th>\n",
              "      <td>19.077026</td>\n",
              "    </tr>\n",
              "    <tr>\n",
              "      <th>min</th>\n",
              "      <td>1.000000</td>\n",
              "    </tr>\n",
              "    <tr>\n",
              "      <th>25%</th>\n",
              "      <td>4.000000</td>\n",
              "    </tr>\n",
              "    <tr>\n",
              "      <th>50%</th>\n",
              "      <td>8.000000</td>\n",
              "    </tr>\n",
              "    <tr>\n",
              "      <th>75%</th>\n",
              "      <td>16.000000</td>\n",
              "    </tr>\n",
              "    <tr>\n",
              "      <th>max</th>\n",
              "      <td>467.000000</td>\n",
              "    </tr>\n",
              "  </tbody>\n",
              "</table>\n",
              "</div>"
            ],
            "text/plain": [
              "        text_lenght\n",
              "count  10333.000000\n",
              "mean      13.343076\n",
              "std       19.077026\n",
              "min        1.000000\n",
              "25%        4.000000\n",
              "50%        8.000000\n",
              "75%       16.000000\n",
              "max      467.000000"
            ]
          },
          "metadata": {},
          "execution_count": 94
        },
        {
          "output_type": "display_data",
          "data": {
            "image/png": "[encoded data removed]",
            "text/plain": [
              "<Figure size 1080x360 with 2 Axes>"
            ]
          },
          "metadata": {
            "needs_background": "light"
          }
        }
      ]
    },
    {
      "cell_type": "code",
      "metadata": {
        "colab": {
          "base_uri": "https://localhost:8080/"
        },
        "id": "i5yNEl75xYAo",
        "outputId": "54e3618b-826f-40ab-eb10-7dd881129a32"
      },
      "source": [
        "# single-label classification approach\n",
        "#==================================================== Each row probabilities adds up to 1 ====================================================\n",
        "%%time\n",
        "import pandas as pd \n",
        "import numpy as np\n",
        "\n",
        "!python -m spacy download en_core_web_md\n",
        "import en_core_web_md as model\n",
        "\n",
        "from sklearn.linear_model import LogisticRegression\n",
        "from sklearn.model_selection import train_test_split\n",
        "from sklearn.preprocessing import LabelEncoder\n",
        "from sklearn.metrics import accuracy_score, balanced_accuracy_score \n",
        "\n",
        "# Load data\n",
        "url = 'https://raw.githubusercontent.com/CDU-data-science-team/pxtextmining/main/datasets/text_data.csv'\n",
        "df = pd.read_csv(url, usecols=['feedback', 'label'],  encoding='utf-8')#, nrows=100)\n",
        "df.dropna(inplace=True)\n",
        "\n",
        "# # preprocess the data and split to train, test\n",
        "nlp = model.load()\n",
        "no = len(df)\n",
        "# text_lenght = [len(x.split()) for x in df.feedback][:no]\n",
        "# text_lenght= np.reshape(text_lenght, (-1,1)) \n",
        "texts = np.concatenate([nlp(doc).vector.reshape(1,-1) for doc in df.feedback])[:no]\n",
        "# features = np.concatenate((texts, text_lenght), axis=1)                                 #Model does better without the additional feature (text_lenght)\n",
        "features = texts\n",
        "le = LabelEncoder().fit(df.label)    # create the label encoder object(needed for converting our prediction back to the text labels)\n",
        "labels = le.transform(df.label)[:no]\n",
        "x_train, x_test, y_train, y_test = train_test_split(features, labels, test_size=.2, random_state=0, stratify=labels) # create validation set\n",
        "\n",
        "# Instantiate a spacy nlp object with your chosen model\n",
        "nlp = model.load()\n",
        "# x_train.feedback = np.concatenate([nlp(doc).vector.reshape(1,-1) for doc in x_train.feedback])\n",
        "# x_test.feedback = np.concatenate([nlp(doc).vector.reshape(1,-1) for doc in x_test.feedback])\n",
        "\n",
        "# Instantiate a model object and train the model\n",
        "cls = LogisticRegression().fit(x_train, y_train)\n",
        "pred_prob = cls.predict_proba(x_test)\n",
        "\n",
        "# Evaluation the model\n",
        "pred = np.argmax(pred_prob, axis=-1)\n",
        "print('='*20) \n",
        "print(f'Model Accuracy is {accuracy_score(y_test, pred)}') \n",
        "print(f'Model Bal Accuracy is {balanced_accuracy_score(y_test, pred)}') \n",
        "print('='*20)\n",
        "\n",
        "# Apply model on full data\n",
        "print('\\nPredicting on full dataset')\n",
        "# texts.feedback = np.concatenate([nlp(doc).vector.reshape(1,-1) for doc in texts])\n",
        "all_pred_prob = cls.predict_proba(features)\n",
        "\n",
        "# Single labeling\n",
        "all_pred = [int(v) for v in np.argmax(all_pred_prob, axis=-1)]\n",
        "print(f'Overall model Accuracy is {accuracy_score(labels, all_pred)}')\n",
        "print(f'Overall Model Bal Accuracy is {balanced_accuracy_score(labels, all_pred)}') \n",
        "# df['pred_label'] = le.inverse_transform(all_pred) \n",
        "\n",
        "# Output Probability value for each label\n",
        "col = le.inverse_transform(list(set(labels)))\n",
        "for i,p in enumerate(all_pred_prob):        # Ge the row index and label probabilities of each row\n",
        "    df.loc[i,col] = [round(v,3) for v in p]             # Assign the rounded probability to its label (this is directly possible because the probalities is arrange in aphebetical order of the unique values of the label)\n",
        "\n",
        "print('\\nAll Done\\n')\n",
        "print(max(df.iloc[:, -9:].sum(axis=1)))      # To confirm that the probabilities across each row roughly add up to 1\n",
        "df.head(20)"
      ],
      "execution_count": 66,
      "outputs": [
        {
          "output_type": "stream",
          "name": "stdout",
          "text": [
            "Collecting en_core_web_md==2.2.5\n",
            "  Downloading https://github.com/explosion/spacy-models/releases/download/en_core_web_md-2.2.5/en_core_web_md-2.2.5.tar.gz (96.4 MB)\n",
            "\u001b[K     |████████████████████████████████| 96.4 MB 1.3 MB/s \n",
            "\u001b[?25hRequirement already satisfied: spacy>=2.2.2 in /usr/local/lib/python3.7/dist-packages (from en_core_web_md==2.2.5) (2.2.4)\n",
            "Requirement already satisfied: plac<1.2.0,>=0.9.6 in /usr/local/lib/python3.7/dist-packages (from spacy>=2.2.2->en_core_web_md==2.2.5) (1.1.3)\n",
            "Requirement already satisfied: murmurhash<1.1.0,>=0.28.0 in /usr/local/lib/python3.7/dist-packages (from spacy>=2.2.2->en_core_web_md==2.2.5) (1.0.5)\n",
            "Requirement already satisfied: catalogue<1.1.0,>=0.0.7 in /usr/local/lib/python3.7/dist-packages (from spacy>=2.2.2->en_core_web_md==2.2.5) (1.0.0)\n",
            "Requirement already satisfied: cymem<2.1.0,>=2.0.2 in /usr/local/lib/python3.7/dist-packages (from spacy>=2.2.2->en_core_web_md==2.2.5) (2.0.5)\n",
            "Requirement already satisfied: tqdm<5.0.0,>=4.38.0 in /usr/local/lib/python3.7/dist-packages (from spacy>=2.2.2->en_core_web_md==2.2.5) (4.62.3)\n",
            "Requirement already satisfied: srsly<1.1.0,>=1.0.2 in /usr/local/lib/python3.7/dist-packages (from spacy>=2.2.2->en_core_web_md==2.2.5) (1.0.5)\n",
            "Requirement already satisfied: setuptools in /usr/local/lib/python3.7/dist-packages (from spacy>=2.2.2->en_core_web_md==2.2.5) (57.4.0)\n",
            "Requirement already satisfied: wasabi<1.1.0,>=0.4.0 in /usr/local/lib/python3.7/dist-packages (from spacy>=2.2.2->en_core_web_md==2.2.5) (0.8.2)\n",
            "Requirement already satisfied: requests<3.0.0,>=2.13.0 in /usr/local/lib/python3.7/dist-packages (from spacy>=2.2.2->en_core_web_md==2.2.5) (2.23.0)\n",
            "Requirement already satisfied: thinc==7.4.0 in /usr/local/lib/python3.7/dist-packages (from spacy>=2.2.2->en_core_web_md==2.2.5) (7.4.0)\n",
            "Requirement already satisfied: numpy>=1.15.0 in /usr/local/lib/python3.7/dist-packages (from spacy>=2.2.2->en_core_web_md==2.2.5) (1.19.5)\n",
            "Requirement already satisfied: preshed<3.1.0,>=3.0.2 in /usr/local/lib/python3.7/dist-packages (from spacy>=2.2.2->en_core_web_md==2.2.5) (3.0.5)\n",
            "Requirement already satisfied: blis<0.5.0,>=0.4.0 in /usr/local/lib/python3.7/dist-packages (from spacy>=2.2.2->en_core_web_md==2.2.5) (0.4.1)\n",
            "Requirement already satisfied: importlib-metadata>=0.20 in /usr/local/lib/python3.7/dist-packages (from catalogue<1.1.0,>=0.0.7->spacy>=2.2.2->en_core_web_md==2.2.5) (4.8.1)\n",
            "Requirement already satisfied: zipp>=0.5 in /usr/local/lib/python3.7/dist-packages (from importlib-metadata>=0.20->catalogue<1.1.0,>=0.0.7->spacy>=2.2.2->en_core_web_md==2.2.5) (3.6.0)\n",
            "Requirement already satisfied: typing-extensions>=3.6.4 in /usr/local/lib/python3.7/dist-packages (from importlib-metadata>=0.20->catalogue<1.1.0,>=0.0.7->spacy>=2.2.2->en_core_web_md==2.2.5) (3.7.4.3)\n",
            "Requirement already satisfied: certifi>=2017.4.17 in /usr/local/lib/python3.7/dist-packages (from requests<3.0.0,>=2.13.0->spacy>=2.2.2->en_core_web_md==2.2.5) (2021.5.30)\n",
            "Requirement already satisfied: idna<3,>=2.5 in /usr/local/lib/python3.7/dist-packages (from requests<3.0.0,>=2.13.0->spacy>=2.2.2->en_core_web_md==2.2.5) (2.10)\n",
            "Requirement already satisfied: chardet<4,>=3.0.2 in /usr/local/lib/python3.7/dist-packages (from requests<3.0.0,>=2.13.0->spacy>=2.2.2->en_core_web_md==2.2.5) (3.0.4)\n",
            "Requirement already satisfied: urllib3!=1.25.0,!=1.25.1,<1.26,>=1.21.1 in /usr/local/lib/python3.7/dist-packages (from requests<3.0.0,>=2.13.0->spacy>=2.2.2->en_core_web_md==2.2.5) (1.24.3)\n",
            "\u001b[38;5;2m✔ Download and installation successful\u001b[0m\n",
            "You can now load the model via spacy.load('en_core_web_md')\n"
          ]
        },
        {
          "output_type": "stream",
          "name": "stderr",
          "text": [
            "/usr/local/lib/python3.7/dist-packages/sklearn/linear_model/_logistic.py:940: ConvergenceWarning: lbfgs failed to converge (status=1):\n",
            "STOP: TOTAL NO. of ITERATIONS REACHED LIMIT.\n",
            "\n",
            "Increase the number of iterations (max_iter) or scale the data as shown in:\n",
            "    https://scikit-learn.org/stable/modules/preprocessing.html\n",
            "Please also refer to the documentation for alternative solver options:\n",
            "    https://scikit-learn.org/stable/modules/linear_model.html#logistic-regression\n",
            "  extra_warning_msg=_LOGISTIC_SOLVER_CONVERGENCE_MSG)\n"
          ]
        },
        {
          "output_type": "stream",
          "name": "stdout",
          "text": [
            "====================\n",
            "Model Accuracy is 0.6816642477019835\n",
            "Model Bal Accuracy is 0.4500516064499671\n",
            "====================\n",
            "\n",
            "Predicting on full dataset\n",
            "Overall model Accuracy is 0.707732507500242\n",
            "Overall Model Bal Accuracy is 0.4926483519269103\n",
            "\n",
            "All Done\n",
            "\n",
            "1.0030000000000001\n",
            "CPU times: user 2min 54s, sys: 4.38 s, total: 2min 58s\n",
            "Wall time: 3min 10s\n"
          ]
        }
      ]
    },
    {
      "cell_type": "code",
      "metadata": {
        "colab": {
          "base_uri": "https://localhost:8080/",
          "height": 1000
        },
        "id": "SrTEnyH_tkeY",
        "outputId": "6ad54567-cb30-4e99-94af-941464a6cd71"
      },
      "source": [
        "# Multi-label classification approach\n",
        "#==================================================== Each row probabilities don't neccesarily add up to 1 ====================================================\n",
        "%%time\n",
        "import pandas as pd\n",
        "import numpy as np \n",
        "from sklearn.feature_extraction.text import TfidfVectorizer\n",
        "from sklearn.naive_bayes import MultinomialNB\n",
        "from sklearn.multiclass import OneVsRestClassifier\n",
        "from sklearn.pipeline import Pipeline\n",
        "\n",
        "import nltk\n",
        "from nltk.corpus import stopwords\n",
        "nltk.download('stopwords')\n",
        "stop_word = set(stopwords.words('english'))\n",
        "from sklearn.preprocessing import OneHotEncoder, LabelBinarizer, LabelEncoder\n",
        "from sklearn.model_selection import train_test_split\n",
        "from sklearn.metrics import accuracy_score, balanced_accuracy_score \n",
        "from sklearn.linear_model import LogisticRegression\n",
        "from sklearn.multiclass import OneVsRestClassifier\n",
        "\n",
        "import seaborn as sns\n",
        "\n",
        "# Load in the data\n",
        "url = 'https://raw.githubusercontent.com/CDU-data-science-team/pxtextmining/main/datasets/text_data.csv'\n",
        "df = pd.read_csv(url, usecols=['feedback', 'label'],  encoding='utf-8')#, nrows=100)\n",
        "df.feedback.fillna('', inplace=True)\n",
        "\n",
        "# Preprocess the single labelled dataset into a multilabel dataset and split the data into train and test set \n",
        "lb = LabelBinarizer().fit(df.label)\n",
        "le = LabelEncoder().fit(df.label)    # create the label encoder object(needed for converting our prediction back to the text labels)\n",
        "classes = lb.transform(df.label)\n",
        "class_df = pd.DataFrame(classes, columns=lb.classes_)\n",
        "df = pd.concat([df, class_df], axis=1)\n",
        "\n",
        "train, test = train_test_split(df, random_state=42, test_size=0.33, shuffle=True)\n",
        "X_train = train.feedback\n",
        "X_test = test.feedback\n",
        "\n",
        "# Define a pipeline combining a text feature extractor with multi lable classifier\n",
        "LogReg_pipeline = Pipeline([\n",
        "               ('tfidf', TfidfVectorizer(stop_words=stop_word)),\n",
        "               ('clf', OneVsRestClassifier(LogisticRegression(solver='sag'), n_jobs=1)),\n",
        "               ])\n",
        "\n",
        "print('\\nTraining the Model')\n",
        "for category in lb.classes_:\n",
        "    print('... Processing {}'.format(category))\n",
        "    # train the model using X_dtm & y\n",
        "    LogReg_pipeline.fit(X_train, train[category])\n",
        "    # compute the testing accuracy\n",
        "    prediction = LogReg_pipeline.predict(X_test)\n",
        "    print('Test accuracy is {}'.format(accuracy_score(test[category], prediction)))   # explore the model performance on the test data\n",
        "    \n",
        "    # print('\\nPredicting probability on full dataset')\n",
        "    all_prediction = LogReg_pipeline.predict(df.feedback)\n",
        "    print('all data accuracy is {}'.format(accuracy_score(df[category], all_prediction))) # explore the model performance on all the data\n",
        "    probs = LogReg_pipeline.predict_proba(df.feedback)\n",
        "    df[category] = [p[-1] for p in probs]                         # extract the probabilities for label 1 = represent that the row belongs to the specified class\n",
        "    print('='*40)\n",
        "\n",
        "# Extract all probability as an array\n",
        "all_pred_prob = df.iloc[:, -9:].values\n",
        "\n",
        "# Single Labeling \n",
        "print('\\nPredicting for Single_labeling') \n",
        "predt = np.argmax(all_pred_prob, axis=-1)\n",
        "predt = le.inverse_transform(predt)                  # convert the label code into the original class names   \n",
        "df['Single_label'] = predt\n",
        "print('Overall accuracy is {}'.format(accuracy_score(df['label'], predt)))   # explore the model performance on the test data\n",
        "print('Overall Balance accuracy is {}'.format(balanced_accuracy_score(df['label'], predt)))   # explore the model performance on the test data\n",
        "print('='*40)\n",
        "\n",
        "# Multi-label prediction on the full dataset\n",
        "print('\\nPredicting for Multilabeling') \n",
        "high = 0.5\n",
        "multilabel_counter = 0\n",
        "label_counter = []\n",
        "multilabel_rowindex = []\n",
        "for i, p in enumerate(all_pred_prob): # itererate over each row \n",
        "  # set the threshold to be either high or the seventy-fifth percentile   \n",
        "  seventh = np.percentile(p, [75]) \n",
        "  if max(p) > high:\n",
        "    threshold = high\n",
        "  else:\n",
        "    threshold = seventh\n",
        "  best_labels_dict = {k:v for k,v in enumerate(p) if v>threshold}    # extract  as a dictionary the index and values of probaility greater than the threshold percentage\n",
        "  best_labels_id = sorted(best_labels_dict, key=best_labels_dict.get, reverse=True) # Extract the label code(best_labels_dict.keys) arranged in decreasing order of their probability values\n",
        "  best_label = le.inverse_transform(best_labels_id)                  # convert the label code into the original class names   \n",
        "  label_counter.append(len(best_label))      \n",
        "  df.loc[i,'multi_label'] = ', '.join(best_label)\n",
        "\n",
        "  if len(best_label) > 1:\n",
        "      multilabel_counter+=1\n",
        "      multilabel_rowindex.append(i)\n",
        "\n",
        "print('Number of rows with MultiLabel is ', multilabel_counter) \n",
        "print('Maximum rowsum of probabilities is ', round(max(df.iloc[:, -9:].sum(axis=1)),2))    # To prove the probabilities across each row didn't auto add up to 1\n",
        "print('='*40)\n",
        "\n",
        "# Visualization\n",
        "sns.countplot(x=label_counter).set(xlabel='no of label', title='No of label per Feedback based on set probability threshold')\n",
        "df.head()\n",
        "\n",
        "# export the data\n",
        "df.to_csv('MultiLa_data.csv')"
      ],
      "execution_count": 74,
      "outputs": [
        {
          "output_type": "stream",
          "name": "stdout",
          "text": [
            "[nltk_data] Downloading package stopwords to /root/nltk_data...\n",
            "[nltk_data]   Package stopwords is already up-to-date!\n",
            "\n",
            "Training the Model\n",
            "... Processing Access\n",
            "Test accuracy is 0.9610085019055995\n",
            "all data accuracy is 0.9623572672730791\n",
            "========================================\n",
            "... Processing Care received\n",
            "Test accuracy is 0.7936089123424216\n",
            "all data accuracy is 0.8250435455777047\n",
            "========================================\n",
            "... Processing Communication\n",
            "Test accuracy is 0.9340369393139841\n",
            "all data accuracy is 0.9378749758080124\n",
            "========================================\n",
            "... Processing Couldn't be improved\n",
            "Test accuracy is 0.9416593374377016\n",
            "all data accuracy is 0.9466808592994\n",
            "========================================\n",
            "... Processing Dignity\n",
            "Test accuracy is 0.9850483729111698\n",
            "all data accuracy is 0.9866460228372363\n",
            "========================================\n",
            "... Processing Environment/ facilities\n",
            "Test accuracy is 0.9639401934916447\n",
            "all data accuracy is 0.9618734275208051\n",
            "========================================\n",
            "... Processing Miscellaneous\n",
            "Test accuracy is 0.9742011140428027\n",
            "all data accuracy is 0.973582349525837\n",
            "========================================\n",
            "... Processing Staff\n",
            "Test accuracy is 0.8501905599530929\n",
            "all data accuracy is 0.8708147861428295\n",
            "========================================\n",
            "... Processing Transition/coordination\n",
            "Test accuracy is 0.9862210495455878\n",
            "all data accuracy is 0.9859686471840526\n",
            "========================================\n",
            "\n",
            "Predicting for Single_labeling\n",
            "Overall accuracy is 0.7212115347396942\n",
            "Overall Balance accuracy is 0.46253548999358096\n",
            "========================================\n",
            "\n",
            "Predicting for Multilabeling\n",
            "Number of rows with MultiLabel is  3947\n",
            "Maximum rowsum of probabilities is  1.65\n",
            "========================================\n",
            "CPU times: user 12.6 s, sys: 92.7 ms, total: 12.7 s\n",
            "Wall time: 13.1 s\n"
          ]
        },
        {
          "output_type": "display_data",
          "data": {
            "image/png": "[encoded data removed]",
            "text/plain": [
              "<Figure size 432x288 with 1 Axes>"
            ]
          },
          "metadata": {
            "needs_background": "light"
          }
        }
      ]
    },
    {
      "cell_type": "markdown",
      "metadata": {
        "id": "98g3h280x6WX"
      },
      "source": [
        "# My Hypothesis: \n",
        "`Multilabel classification will perform better than Single label`\n",
        "\n",
        "possible lookup:\n",
        "* what is the metric for rows with one label?\n",
        "* what is the metric for rows with two labels if actual label is either of the 2 assigned label?\n",
        "*  what is the overall metric for multilabel classification compared to the single label classification approach?"
      ]
    },
    {
      "cell_type": "code",
      "metadata": {
        "colab": {
          "base_uri": "https://localhost:8080/"
        },
        "id": "_pAyMWCs6Guj",
        "outputId": "3efa779d-1d5f-427f-9a60-c88fa0e7dcfa"
      },
      "source": [
        "# what is the metric for rows with one label?\n",
        "df2 = df.loc[set(df.index) - set(multilabel_rowindex)]\n",
        "print('Accuracy metric for rows with one label is {}'.format(accuracy_score(df2['label'], df2['multi_label'])))   # explore the model performance on the test data\n",
        "\n",
        "# what is the metric for rows with two labels if actual label is either of the 2 assigned label?\n",
        "counts = 0\n",
        "for l, ml in zip(df.label, df.multi_label):\n",
        "  if (l in ml):\n",
        "    counts += 1\n",
        "ml_acc = counts/len(df.label)\n",
        "print('Accuracy for rows with two labels if actual label is either of the 2 assigned label ', ml_acc)\n",
        "\n",
        "print('='*100)\n",
        "# what is the overall metric for multilabel classification?\n",
        "print('Overall accuracy for multilabels apporach {}'.format(accuracy_score(df['label'], predt)))   # explore the model performance on the test data\n",
        "print('Overall balance accuracy for multilabels approach {}'.format(balanced_accuracy_score(df['label'], predt)))   # explore the model performance on the test data\n",
        "\n",
        "#what is the overall metric for single label classification?\n",
        "print(f'\\nOverall accuracy for single label apporach {accuracy_score(labels, all_pred)}')\n",
        "print(f'Overall balance accuracy for single label approach {balanced_accuracy_score(labels, all_pred)}')"
      ],
      "execution_count": 104,
      "outputs": [
        {
          "output_type": "stream",
          "name": "stdout",
          "text": [
            "Accuracy metric for rows with one label is 0.8650383591670581\n",
            "Accuracy for rows with two labels if actual label is either of the 2 assigned label  0.8311399264563577\n",
            "====================================================================================================\n",
            "Overall accuracy for multilabels apporach 0.7212115347396942\n",
            "Overall balance accuracy for multilabels approach 0.46253548999358096\n",
            "\n",
            "Overall accuracy for single label apporach 0.707732507500242\n",
            "Overall balance accuracy for single label approach 0.4926483519269103\n"
          ]
        }
      ]
    }
  ]
}